{
  "nbformat": 4,
  "nbformat_minor": 0,
  "metadata": {
    "colab": {
      "provenance": []
    },
    "kernelspec": {
      "name": "python3",
      "display_name": "Python 3"
    },
    "language_info": {
      "name": "python"
    }
  },
  "cells": [
    {
      "cell_type": "markdown",
      "source": [
        "#**<center>LAB-02**"
      ],
      "metadata": {
        "id": "qvA61Rc1_rwp"
      }
    },
    {
      "cell_type": "markdown",
      "source": [
        "###**Student id:** 202211037"
      ],
      "metadata": {
        "id": "Yz67ICQN_8NM"
      }
    },
    {
      "cell_type": "markdown",
      "source": [
        "###**Student Name:** Aksh Patel"
      ],
      "metadata": {
        "id": "1ZxMuW8WAFQy"
      }
    },
    {
      "cell_type": "code",
      "execution_count": null,
      "metadata": {
        "colab": {
          "base_uri": "https://localhost:8080/"
        },
        "id": "Xr6SECTyAepn",
        "outputId": "47866dc3-eaf7-4d56-8d2d-55f22f5a0f8c"
      },
      "outputs": [
        {
          "output_type": "stream",
          "name": "stdout",
          "text": [
            "\u001b[?25l     \u001b[90m━━━━━━━━━━━━━━━━━━━━━━━━━━━━━━━━━━━━━━━━\u001b[0m \u001b[32m0.0/439.6 kB\u001b[0m \u001b[31m?\u001b[0m eta \u001b[36m-:--:--\u001b[0m\r\u001b[2K     \u001b[91m━━━━━━━\u001b[0m\u001b[90m╺\u001b[0m\u001b[90m━━━━━━━━━━━━━━━━━━━━━━━━━━━━━━━━\u001b[0m \u001b[32m81.9/439.6 kB\u001b[0m \u001b[31m2.4 MB/s\u001b[0m eta \u001b[36m0:00:01\u001b[0m\r\u001b[2K     \u001b[91m━━━━━━━━━━━━━━━━━━━━━━━━━━━━━━━\u001b[0m\u001b[91m╸\u001b[0m\u001b[90m━━━━━━━\u001b[0m \u001b[32m358.4/439.6 kB\u001b[0m \u001b[31m5.2 MB/s\u001b[0m eta \u001b[36m0:00:01\u001b[0m\r\u001b[2K     \u001b[90m━━━━━━━━━━━━━━━━━━━━━━━━━━━━━━━━━━━━━━━\u001b[0m \u001b[32m439.6/439.6 kB\u001b[0m \u001b[31m4.9 MB/s\u001b[0m eta \u001b[36m0:00:00\u001b[0m\n",
            "\u001b[?25h"
          ]
        }
      ],
      "source": [
        "!pip install --quiet mrjob==0.7.4"
      ]
    },
    {
      "cell_type": "code",
      "source": [
        "#mount my google drive\n",
        "from google.colab import drive\n",
        "drive.mount(\"/content/gdrive\")"
      ],
      "metadata": {
        "colab": {
          "base_uri": "https://localhost:8080/"
        },
        "id": "WWJNM3G5ApGY",
        "outputId": "66f61352-6c57-4f88-9f99-438ae11d9af2"
      },
      "execution_count": null,
      "outputs": [
        {
          "output_type": "stream",
          "name": "stdout",
          "text": [
            "Mounted at /content/gdrive\n"
          ]
        }
      ]
    },
    {
      "cell_type": "markdown",
      "source": [
        "## Exercise 1"
      ],
      "metadata": {
        "id": "9_AW_aQBAt6X"
      }
    },
    {
      "cell_type": "code",
      "source": [
        "%%file FavBrow.py\n",
        "from mrjob.job import MRJob\n",
        "from mrjob.step import MRStep\n",
        "\n",
        "class FavBrow(MRJob):\n",
        "\n",
        "  def mapper(self, key, line):\n",
        "\n",
        "    record = line.split(' ')\n",
        "    browser = record[-2]\n",
        "\n",
        "    yield browser,1\n",
        "\n",
        "  def reducer(self, brow, count):\n",
        "\n",
        "      yield None, (sum(count),brow)\n",
        "\n",
        "  def reducer2(self, _, value_pair):\n",
        "\n",
        "      yield max(value_pair)\n",
        "\n",
        "  def steps(self):\n",
        "\n",
        "        return [MRStep(mapper=self.mapper, reducer=self.reducer),MRStep(reducer=self.reducer2)]\n",
        "\n",
        "if __name__ == '__main__':\n",
        "    FavBrow.run()\n"
      ],
      "metadata": {
        "colab": {
          "base_uri": "https://localhost:8080/"
        },
        "id": "BPjmwFR1A9NK",
        "outputId": "7e17a3bf-52ac-4bc3-aa93-317cca6968d6"
      },
      "execution_count": null,
      "outputs": [
        {
          "output_type": "stream",
          "name": "stdout",
          "text": [
            "Writing FavBrow.py\n"
          ]
        }
      ]
    },
    {
      "cell_type": "code",
      "source": [
        "!python FavBrow.py \"/content/gdrive/My Drive/big_data_processing/datasets/mr/web_access_log.txt\""
      ],
      "metadata": {
        "colab": {
          "base_uri": "https://localhost:8080/"
        },
        "id": "cczogRVsBDqp",
        "outputId": "36ca975e-f9db-417c-d56c-2ec903e01fc2"
      },
      "execution_count": null,
      "outputs": [
        {
          "output_type": "stream",
          "name": "stdout",
          "text": [
            "No configs found; falling back on auto-configuration\n",
            "No configs specified for inline runner\n",
            "Creating temp directory /tmp/FavBrow.root.20230822.171442.167794\n",
            "Running step 1 of 2...\n",
            "Running step 2 of 2...\n",
            "job output is in /tmp/FavBrow.root.20230822.171442.167794/output\n",
            "Streaming final output from /tmp/FavBrow.root.20230822.171442.167794/output...\n",
            "60234\t\"Safari/537.36\\\"\"\n",
            "Removing temp directory /tmp/FavBrow.root.20230822.171442.167794...\n"
          ]
        }
      ]
    },
    {
      "cell_type": "markdown",
      "source": [
        "## Exercise 2"
      ],
      "metadata": {
        "id": "rwsAxcoFBbDK"
      }
    },
    {
      "cell_type": "code",
      "source": [
        "%%file NearestDist.py\n",
        "from mrjob.job import MRJob\n",
        "import math\n",
        "\n",
        "def eucldistance(x,y):\n",
        "  return math.sqrt(sum([pow((x[i]-y[i]),2) for i in range(len(x))]))\n",
        "\n",
        "class NearestDist(MRJob):\n",
        "\n",
        "   def mapper_init(self):\n",
        "     self.ircl = [[5.8885,2.7377,4.3967,1.418],[5.006,3.418,1.464,0.244],[6.8462,3.0821,5.7026,2.0795]]\n",
        "\n",
        "\n",
        "   def mapper(self, key, line):\n",
        "\n",
        "     if \"sepal_length\" not in line:\n",
        "\n",
        "        list1 = list(map(float,line.split(\",\")))\n",
        "        ID = 0\n",
        "        counter = 0\n",
        "        minim = 1000000\n",
        "        buff = 0\n",
        "\n",
        "        for i in self.ircl:\n",
        "           counter+=1\n",
        "           buff = eucldistance(list1,i)\n",
        "\n",
        "           if(buff < minim):\n",
        "\n",
        "              minim = buff\n",
        "              ID = counter\n",
        "\n",
        "        yield ID, list1\n",
        "\n",
        "if __name__ == '__main__':\n",
        "        NearestDist.run()"
      ],
      "metadata": {
        "colab": {
          "base_uri": "https://localhost:8080/"
        },
        "id": "km9HF-YHBjEK",
        "outputId": "ddac267c-e9a6-455a-cbf9-074e900847ef"
      },
      "execution_count": null,
      "outputs": [
        {
          "output_type": "stream",
          "name": "stdout",
          "text": [
            "Writing NearestDist.py\n"
          ]
        }
      ]
    },
    {
      "cell_type": "code",
      "source": [
        "!python NearestDist.py \"/content/gdrive/My Drive/big_data_processing/datasets/iris/iris.csv\""
      ],
      "metadata": {
        "colab": {
          "base_uri": "https://localhost:8080/"
        },
        "id": "uxnmz_75BxCR",
        "outputId": "999ba07c-1a4f-4f22-c8ce-148b14e78fa1"
      },
      "execution_count": null,
      "outputs": [
        {
          "output_type": "stream",
          "name": "stdout",
          "text": [
            "No configs found; falling back on auto-configuration\n",
            "No configs specified for inline runner\n",
            "Creating temp directory /tmp/NearestDist.root.20230822.171446.681603\n",
            "Running step 1 of 1...\n",
            "job output is in /tmp/NearestDist.root.20230822.171446.681603/output\n",
            "Streaming final output from /tmp/NearestDist.root.20230822.171446.681603/output...\n",
            "1\t[6.4, 2.9, 4.3, 1.3]\n",
            "1\t[6.6, 3.0, 4.4, 1.4]\n",
            "1\t[6.8, 2.8, 4.8, 1.4]\n",
            "3\t[6.7, 3.0, 5.0, 1.7]\n",
            "1\t[6.0, 2.9, 4.5, 1.5]\n",
            "1\t[5.7, 2.6, 3.5, 1.0]\n",
            "1\t[5.5, 2.4, 3.8, 1.1]\n",
            "1\t[5.5, 2.4, 3.7, 1.0]\n",
            "1\t[5.8, 2.7, 3.9, 1.2]\n",
            "1\t[6.0, 2.7, 5.1, 1.6]\n",
            "1\t[5.4, 3.0, 4.5, 1.5]\n",
            "1\t[6.0, 3.4, 4.5, 1.6]\n",
            "1\t[6.7, 3.1, 4.7, 1.5]\n",
            "1\t[6.3, 2.3, 4.4, 1.3]\n",
            "1\t[5.6, 3.0, 4.1, 1.3]\n",
            "1\t[5.5, 2.5, 4.0, 1.3]\n",
            "1\t[5.5, 2.6, 4.4, 1.2]\n",
            "1\t[6.1, 3.0, 4.6, 1.4]\n",
            "1\t[5.8, 2.6, 4.0, 1.2]\n",
            "1\t[5.0, 2.3, 3.3, 1.0]\n",
            "1\t[5.6, 2.7, 4.2, 1.3]\n",
            "1\t[5.7, 3.0, 4.2, 1.2]\n",
            "1\t[5.7, 2.9, 4.2, 1.3]\n",
            "1\t[6.2, 2.9, 4.3, 1.3]\n",
            "1\t[5.1, 2.5, 3.0, 1.1]\n",
            "1\t[5.7, 2.8, 4.1, 1.3]\n",
            "3\t[6.3, 3.3, 6.0, 2.5]\n",
            "1\t[5.8, 2.7, 5.1, 1.9]\n",
            "3\t[7.1, 3.0, 5.9, 2.1]\n",
            "3\t[6.3, 2.9, 5.6, 1.8]\n",
            "3\t[6.5, 3.0, 5.8, 2.2]\n",
            "3\t[7.6, 3.0, 6.6, 2.1]\n",
            "1\t[4.9, 2.5, 4.5, 1.7]\n",
            "3\t[7.3, 2.9, 6.3, 1.8]\n",
            "3\t[6.7, 2.5, 5.8, 1.8]\n",
            "3\t[7.2, 3.6, 6.1, 2.5]\n",
            "3\t[6.5, 3.2, 5.1, 2.0]\n",
            "3\t[6.4, 2.7, 5.3, 1.9]\n",
            "3\t[6.8, 3.0, 5.5, 2.1]\n",
            "2\t[5.0, 3.2, 1.2, 0.2]\n",
            "2\t[5.5, 3.5, 1.3, 0.2]\n",
            "2\t[4.9, 3.1, 1.5, 0.1]\n",
            "2\t[4.4, 3.0, 1.3, 0.2]\n",
            "2\t[5.1, 3.4, 1.5, 0.2]\n",
            "2\t[5.0, 3.5, 1.3, 0.3]\n",
            "2\t[4.5, 2.3, 1.3, 0.3]\n",
            "2\t[4.4, 3.2, 1.3, 0.2]\n",
            "2\t[5.0, 3.5, 1.6, 0.6]\n",
            "2\t[5.1, 3.8, 1.9, 0.4]\n",
            "2\t[4.8, 3.0, 1.4, 0.3]\n",
            "2\t[5.1, 3.8, 1.6, 0.2]\n",
            "2\t[4.6, 3.2, 1.4, 0.2]\n",
            "2\t[5.3, 3.7, 1.5, 0.2]\n",
            "2\t[5.0, 3.3, 1.4, 0.2]\n",
            "3\t[7.0, 3.2, 4.7, 1.4]\n",
            "1\t[6.4, 3.2, 4.5, 1.5]\n",
            "3\t[6.9, 3.1, 4.9, 1.5]\n",
            "1\t[5.5, 2.3, 4.0, 1.3]\n",
            "1\t[6.5, 2.8, 4.6, 1.5]\n",
            "1\t[5.7, 2.8, 4.5, 1.3]\n",
            "1\t[6.3, 3.3, 4.7, 1.6]\n",
            "1\t[4.9, 2.4, 3.3, 1.0]\n",
            "1\t[6.6, 2.9, 4.6, 1.3]\n",
            "1\t[5.2, 2.7, 3.9, 1.4]\n",
            "1\t[5.0, 2.0, 3.5, 1.0]\n",
            "1\t[5.9, 3.0, 4.2, 1.5]\n",
            "1\t[6.0, 2.2, 4.0, 1.0]\n",
            "1\t[6.1, 2.9, 4.7, 1.4]\n",
            "1\t[5.6, 2.9, 3.6, 1.3]\n",
            "1\t[6.7, 3.1, 4.4, 1.4]\n",
            "1\t[5.6, 3.0, 4.5, 1.5]\n",
            "1\t[5.8, 2.7, 4.1, 1.0]\n",
            "1\t[6.2, 2.2, 4.5, 1.5]\n",
            "1\t[5.6, 2.5, 3.9, 1.1]\n",
            "1\t[5.9, 3.2, 4.8, 1.8]\n",
            "1\t[6.1, 2.8, 4.0, 1.3]\n",
            "1\t[6.3, 2.5, 4.9, 1.5]\n",
            "1\t[6.1, 2.8, 4.7, 1.2]\n",
            "1\t[5.7, 2.5, 5.0, 2.0]\n",
            "1\t[5.8, 2.8, 5.1, 2.4]\n",
            "3\t[6.4, 3.2, 5.3, 2.3]\n",
            "3\t[6.5, 3.0, 5.5, 1.8]\n",
            "3\t[7.7, 3.8, 6.7, 2.2]\n",
            "3\t[7.7, 2.6, 6.9, 2.3]\n",
            "1\t[6.0, 2.2, 5.0, 1.5]\n",
            "3\t[6.9, 3.2, 5.7, 2.3]\n",
            "1\t[5.6, 2.8, 4.9, 2.0]\n",
            "3\t[7.7, 2.8, 6.7, 2.0]\n",
            "1\t[6.3, 2.7, 4.9, 1.8]\n",
            "3\t[6.7, 3.3, 5.7, 2.1]\n",
            "3\t[7.2, 3.2, 6.0, 1.8]\n",
            "1\t[6.2, 2.8, 4.8, 1.8]\n",
            "1\t[6.1, 3.0, 4.9, 1.8]\n",
            "3\t[6.4, 2.8, 5.6, 2.1]\n",
            "3\t[7.2, 3.0, 5.8, 1.6]\n",
            "3\t[7.4, 2.8, 6.1, 1.9]\n",
            "3\t[7.9, 3.8, 6.4, 2.0]\n",
            "3\t[6.4, 2.8, 5.6, 2.2]\n",
            "1\t[6.3, 2.8, 5.1, 1.5]\n",
            "3\t[6.1, 2.6, 5.6, 1.4]\n",
            "3\t[7.7, 3.0, 6.1, 2.3]\n",
            "3\t[6.3, 3.4, 5.6, 2.4]\n",
            "3\t[6.4, 3.1, 5.5, 1.8]\n",
            "1\t[6.0, 3.0, 4.8, 1.8]\n",
            "3\t[6.9, 3.1, 5.4, 2.1]\n",
            "3\t[6.7, 3.1, 5.6, 2.4]\n",
            "3\t[6.9, 3.1, 5.1, 2.3]\n",
            "1\t[5.8, 2.7, 5.1, 1.9]\n",
            "3\t[6.8, 3.2, 5.9, 2.3]\n",
            "3\t[6.7, 3.3, 5.7, 2.5]\n",
            "3\t[6.7, 3.0, 5.2, 2.3]\n",
            "1\t[6.3, 2.5, 5.0, 1.9]\n",
            "3\t[6.5, 3.0, 5.2, 2.0]\n",
            "3\t[6.2, 3.4, 5.4, 2.3]\n",
            "1\t[5.9, 3.0, 5.1, 1.8]\n",
            "2\t[5.1, 3.5, 1.4, 0.2]\n",
            "2\t[4.9, 3.0, 1.4, 0.2]\n",
            "2\t[4.7, 3.2, 1.3, 0.2]\n",
            "2\t[4.6, 3.1, 1.5, 0.2]\n",
            "2\t[5.0, 3.6, 1.4, 0.2]\n",
            "2\t[5.4, 3.9, 1.7, 0.4]\n",
            "2\t[4.6, 3.4, 1.4, 0.3]\n",
            "2\t[5.0, 3.4, 1.5, 0.2]\n",
            "2\t[4.4, 2.9, 1.4, 0.2]\n",
            "2\t[4.9, 3.1, 1.5, 0.1]\n",
            "2\t[5.4, 3.7, 1.5, 0.2]\n",
            "2\t[4.8, 3.4, 1.6, 0.2]\n",
            "2\t[4.8, 3.0, 1.4, 0.1]\n",
            "2\t[4.3, 3.0, 1.1, 0.1]\n",
            "2\t[5.8, 4.0, 1.2, 0.2]\n",
            "2\t[5.7, 4.4, 1.5, 0.4]\n",
            "2\t[5.4, 3.9, 1.3, 0.4]\n",
            "2\t[5.1, 3.5, 1.4, 0.3]\n",
            "2\t[5.7, 3.8, 1.7, 0.3]\n",
            "2\t[5.1, 3.8, 1.5, 0.3]\n",
            "2\t[5.4, 3.4, 1.7, 0.2]\n",
            "2\t[5.1, 3.7, 1.5, 0.4]\n",
            "2\t[4.6, 3.6, 1.0, 0.2]\n",
            "2\t[5.1, 3.3, 1.7, 0.5]\n",
            "2\t[4.8, 3.4, 1.9, 0.2]\n",
            "2\t[5.0, 3.0, 1.6, 0.2]\n",
            "2\t[5.0, 3.4, 1.6, 0.4]\n",
            "2\t[5.2, 3.5, 1.5, 0.2]\n",
            "2\t[5.2, 3.4, 1.4, 0.2]\n",
            "2\t[4.7, 3.2, 1.6, 0.2]\n",
            "2\t[4.8, 3.1, 1.6, 0.2]\n",
            "2\t[5.4, 3.4, 1.5, 0.4]\n",
            "2\t[5.2, 4.1, 1.5, 0.1]\n",
            "2\t[5.5, 4.2, 1.4, 0.2]\n",
            "2\t[4.9, 3.1, 1.5, 0.1]\n",
            "Removing temp directory /tmp/NearestDist.root.20230822.171446.681603...\n"
          ]
        }
      ]
    },
    {
      "cell_type": "markdown",
      "source": [
        "##Exercise 3"
      ],
      "metadata": {
        "id": "KYO31KyiB1WK"
      }
    },
    {
      "cell_type": "code",
      "source": [
        "%%file TopEmp.py\n",
        "from mrjob.job import MRJob\n",
        "from mrjob.job import MRStep\n",
        "import re\n",
        "import heapq as h\n",
        "\n",
        "class TopEmp(MRJob):\n",
        "\n",
        "    def mapper_init(self):\n",
        "\n",
        "        self.No = 10\n",
        "        self.list1 = []\n",
        "        h.heapify(self.list1)\n",
        "\n",
        "    def mapper(self, key, line):\n",
        "\n",
        "        record = re.split(\",\",line)\n",
        "\n",
        "        if(record[0] != '\\ufeff10026'):\n",
        "\n",
        "            sal = int(record[3])\n",
        "            empno = int(record[0])\n",
        "            pair = (sal,empno)\n",
        "\n",
        "            h.heappush(self.list1,pair)\n",
        "\n",
        "            if(self.No < len(self.list1) ):\n",
        "                h.heappop(self.list1)\n",
        "\n",
        "    def mapper_final(self):\n",
        "\n",
        "        for i in list(self.list1):\n",
        "            yield None, i\n",
        "\n",
        "    def reducer_init(self):\n",
        "\n",
        "        self.No = 10\n",
        "        self.list1 = []\n",
        "\n",
        "        h.heapify(self.list1)\n",
        "\n",
        "    def reducer(self, _, value_pairs):\n",
        "\n",
        "        for i in value_pairs:\n",
        "            h.heappush(self.list1, i)\n",
        "\n",
        "            if len(self.list1) > self.No:\n",
        "                h.heappop(self.list1)\n",
        "\n",
        "    def reducer_final(self):\n",
        "        for i in range(self.No):\n",
        "            yield i+1, list(self.list1)[self.No-i-1][1]\n",
        "\n",
        "if __name__ == '__main__':\n",
        "     TopEmp.run()"
      ],
      "metadata": {
        "colab": {
          "base_uri": "https://localhost:8080/"
        },
        "id": "sjsESVeXB3Ry",
        "outputId": "654be3d8-943a-4883-a97e-0793915ad54d"
      },
      "execution_count": null,
      "outputs": [
        {
          "output_type": "stream",
          "name": "stdout",
          "text": [
            "Writing TopEmp.py\n"
          ]
        }
      ]
    },
    {
      "cell_type": "code",
      "source": [
        "!python TopEmp.py \"/content/gdrive/My Drive/big_data_processing/datasets/mr/employee.csv\""
      ],
      "metadata": {
        "colab": {
          "base_uri": "https://localhost:8080/"
        },
        "id": "trWcu_RvB_Fi",
        "outputId": "de2acaca-54a9-4776-d1d8-a085b5164276"
      },
      "execution_count": null,
      "outputs": [
        {
          "output_type": "stream",
          "name": "stdout",
          "text": [
            "No configs found; falling back on auto-configuration\n",
            "No configs specified for inline runner\n",
            "Creating temp directory /tmp/TopEmp.root.20230822.171447.507639\n",
            "Running step 1 of 1...\n",
            "job output is in /tmp/TopEmp.root.20230822.171447.507639/output\n",
            "Streaming final output from /tmp/TopEmp.root.20230822.171447.507639/output...\n",
            "1\t10089\n",
            "2\t10272\n",
            "3\t10010\n",
            "4\t10015\n",
            "5\t10288\n",
            "6\t10222\n",
            "7\t10019\n",
            "8\t10086\n",
            "9\t10198\n",
            "10\t10028\n",
            "Removing temp directory /tmp/TopEmp.root.20230822.171447.507639...\n"
          ]
        }
      ]
    },
    {
      "cell_type": "markdown",
      "source": [
        "## Exercise 4"
      ],
      "metadata": {
        "id": "ut4iJAnmCFda"
      }
    },
    {
      "cell_type": "code",
      "source": [
        "%%file StdDev.py\n",
        "\n",
        "from mrjob.job import MRJob\n",
        "import re\n",
        "import statistics\n",
        "\n",
        "class StdDev(MRJob):\n",
        "\n",
        "    def mapper(self, key, line):\n",
        "\n",
        "      record = re.split(',', line)\n",
        "\n",
        "      dno = record[2]\n",
        "\n",
        "      sal = int(record[3])\n",
        "\n",
        "      yield dno, sal\n",
        "\n",
        "\n",
        "    def reducer(self, dno, salaries):\n",
        "\n",
        "      list1=[]\n",
        "\n",
        "      for i in salaries:\n",
        "        list1.append(i)\n",
        "\n",
        "      if(len(list1)<2):\n",
        "\n",
        "        yield dno,0\n",
        "\n",
        "      else:\n",
        "\n",
        "        yield dno,round((statistics.pstdev(list1)),2)\n",
        "\n",
        "if __name__ == '__main__':\n",
        "     StdDev.run()"
      ],
      "metadata": {
        "colab": {
          "base_uri": "https://localhost:8080/"
        },
        "id": "rd8uRMLFCHsb",
        "outputId": "56243024-8b6b-4e1b-90de-42f3a2a42abf"
      },
      "execution_count": null,
      "outputs": [
        {
          "output_type": "stream",
          "name": "stdout",
          "text": [
            "Writing StdDev.py\n"
          ]
        }
      ]
    },
    {
      "cell_type": "code",
      "source": [
        "!python StdDev.py \"/content/gdrive/My Drive/big_data_processing/datasets/mr/employee.csv\""
      ],
      "metadata": {
        "colab": {
          "base_uri": "https://localhost:8080/"
        },
        "id": "7r0PPEJXCN_r",
        "outputId": "c7f39f9b-1449-4ee3-f78e-5b4da14ca956"
      },
      "execution_count": null,
      "outputs": [
        {
          "output_type": "stream",
          "name": "stdout",
          "text": [
            "No configs found; falling back on auto-configuration\n",
            "No configs specified for inline runner\n",
            "Creating temp directory /tmp/StdDev.root.20230822.171448.220529\n",
            "Running step 1 of 1...\n",
            "job output is in /tmp/StdDev.root.20230822.171448.220529/output\n",
            "Streaming final output from /tmp/StdDev.root.20230822.171448.220529/output...\n",
            "\"6\"\t20702.73\n",
            "\"1\"\t19722.68\n",
            "\"2\"\t0\n",
            "\"3\"\t32875.84\n",
            "\"4\"\t8754.93\n",
            "\"5\"\t11420.8\n",
            "Removing temp directory /tmp/StdDev.root.20230822.171448.220529...\n"
          ]
        }
      ]
    },
    {
      "cell_type": "markdown",
      "source": [
        "##**Colab Notebook link:**\n",
        "\n",
        "[202211037_BDP_lab02.ipynb](https://colab.research.google.com/drive/1EKSbBoHKPsMv_7stvB8RYKHP1xQzScZt#scrollTo=7WnCBDS5U6e0)"
      ],
      "metadata": {
        "id": "7WnCBDS5U6e0"
      }
    }
  ]
}