{
  "nbformat": 4,
  "nbformat_minor": 0,
  "metadata": {
    "colab": {
      "provenance": []
    },
    "kernelspec": {
      "name": "python3",
      "display_name": "Python 3"
    },
    "language_info": {
      "name": "python"
    }
  },
  "cells": [
    {
      "cell_type": "markdown",
      "source": [
        "#**<center>LAB-06**"
      ],
      "metadata": {
        "id": "qvA61Rc1_rwp"
      }
    },
    {
      "cell_type": "markdown",
      "source": [
        "###**Student id:** 202211037"
      ],
      "metadata": {
        "id": "Yz67ICQN_8NM"
      }
    },
    {
      "cell_type": "markdown",
      "source": [
        "###**Student Name:** Aksh Patel"
      ],
      "metadata": {
        "id": "1ZxMuW8WAFQy"
      }
    },
    {
      "cell_type": "code",
      "source": [
        "!pip install pyspark"
      ],
      "metadata": {
        "colab": {
          "base_uri": "https://localhost:8080/"
        },
        "id": "-Y_SU1NjVHX7",
        "outputId": "86b2aca2-0896-4f8d-ddc5-16409d3d64b3"
      },
      "execution_count": null,
      "outputs": [
        {
          "output_type": "stream",
          "name": "stdout",
          "text": [
            "Requirement already satisfied: pyspark in /usr/local/lib/python3.10/dist-packages (3.5.0)\n",
            "Requirement already satisfied: py4j==0.10.9.7 in /usr/local/lib/python3.10/dist-packages (from pyspark) (0.10.9.7)\n"
          ]
        }
      ]
    },
    {
      "cell_type": "code",
      "source": [
        "from google.colab import drive\n",
        "drive.mount(\"/content/gdrive\")"
      ],
      "metadata": {
        "colab": {
          "base_uri": "https://localhost:8080/"
        },
        "id": "5ASz46v4sCIl",
        "outputId": "c946d009-d000-4882-e777-4b122f98673d"
      },
      "execution_count": null,
      "outputs": [
        {
          "output_type": "stream",
          "name": "stdout",
          "text": [
            "Drive already mounted at /content/gdrive; to attempt to forcibly remount, call drive.mount(\"/content/gdrive\", force_remount=True).\n"
          ]
        }
      ]
    },
    {
      "cell_type": "markdown",
      "source": [
        "## 1. Computing full data cube lattice"
      ],
      "metadata": {
        "id": "hCOBRw5_wd2E"
      }
    },
    {
      "cell_type": "code",
      "source": [
        "from pyspark.sql import SparkSession\n",
        "from pyspark.sql.functions import col, sum\n",
        "\n",
        "# Create a Spark session\n",
        "spark = SparkSession.builder.appName(\"DataCube\").getOrCreate()\n",
        "\n",
        "# Load data from CSV files\n",
        "customers = spark.read.format(\"csv\").option(\"header\", \"true\").load(\"/content/gdrive/MyDrive/big_data_processing/datasets/dw/widom/customers.csv\")\n",
        "items = spark.read.format(\"csv\").option(\"header\", \"true\").load(\"/content/gdrive/MyDrive/big_data_processing/datasets/dw/widom/items.csv\")\n",
        "sales = spark.read.format(\"csv\").option(\"header\", \"true\").load(\"/content/gdrive/MyDrive/big_data_processing/datasets/dw/widom/sales.csv\")\n",
        "stores = spark.read.format(\"csv\").option(\"header\", \"true\").load(\"/content/gdrive/MyDrive/big_data_processing/datasets/dw/widom/stores.csv\")\n",
        "# Join dataframes\n",
        "data_cube = sales.join(customers, 'custid', 'inner') \\\n",
        "                .join(items, 'itemid', 'inner') \\\n",
        "                .join(stores, 'storeid', 'inner')\n"
      ],
      "metadata": {
        "id": "p3V1fJ7epE1k"
      },
      "execution_count": null,
      "outputs": []
    },
    {
      "cell_type": "code",
      "source": [
        "# 1. Compute the full data cube lattice and materialize it in Parquet data format\n",
        "data_cube.write.parquet(\"data_cube.parquet\", mode='overwrite')"
      ],
      "metadata": {
        "id": "-J5RtH2QtLQ1"
      },
      "execution_count": null,
      "outputs": []
    },
    {
      "cell_type": "markdown",
      "source": [
        "## 2. Performing the following operations from the materialized lattice."
      ],
      "metadata": {
        "id": "Yhy_yywWxf2N"
      }
    },
    {
      "cell_type": "markdown",
      "source": [
        "###a. Show Item axis"
      ],
      "metadata": {
        "id": "SDQitNAXxoc-"
      }
    },
    {
      "cell_type": "code",
      "source": [
        "# 2. Performing the following operations from the materialized lattice\n",
        "\n",
        "# a. Show Item axis\n",
        "item_axis = data_cube.select('category').distinct()\n",
        "item_axis.show()"
      ],
      "metadata": {
        "id": "oq23BHL5t7no",
        "colab": {
          "base_uri": "https://localhost:8080/"
        },
        "outputId": "65d72dba-054c-4169-f57b-e960c5902d8a"
      },
      "execution_count": null,
      "outputs": [
        {
          "output_type": "stream",
          "name": "stdout",
          "text": [
            "+--------+\n",
            "|category|\n",
            "+--------+\n",
            "|  Jacket|\n",
            "|  Tshirt|\n",
            "+--------+\n",
            "\n"
          ]
        }
      ]
    },
    {
      "cell_type": "markdown",
      "source": [
        "###b. Produce roll-up of (Item, Store, Customer)"
      ],
      "metadata": {
        "id": "FcmPQfW-xuIX"
      }
    },
    {
      "cell_type": "code",
      "source": [
        "# b. Produce roll-up of (Item, Store, Customer)\n",
        "rollup = data_cube.groupBy('category', 'city', 'cname').agg(sum('price').alias('SalesTotal'))\\\n",
        "                 .withColumnRenamed('category', 'Item') \\\n",
        "                 .withColumnRenamed('city', 'Store') \\\n",
        "                 .withColumnRenamed('cname', 'Customer')\n",
        "rollup.show()"
      ],
      "metadata": {
        "id": "EcknPNGruWd-",
        "colab": {
          "base_uri": "https://localhost:8080/"
        },
        "outputId": "c26d935e-bce7-442a-d99c-f4d9eed90433"
      },
      "execution_count": null,
      "outputs": [
        {
          "output_type": "stream",
          "name": "stdout",
          "text": [
            "+------+-------------+--------+----------+\n",
            "|  Item|        Store|Customer|SalesTotal|\n",
            "+------+-------------+--------+----------+\n",
            "|Jacket|      Redmond|   Craig|     270.0|\n",
            "|Tshirt|      Redmond|   Doris|     165.0|\n",
            "|Jacket|      Seattle|     Amy|     180.0|\n",
            "|Jacket|      Seattle|     Bob|     225.0|\n",
            "|Tshirt|Mountain View|     Bob|     125.0|\n",
            "|Tshirt|   Menlo Park|     Bob|     165.0|\n",
            "|Jacket|    Palo Alto|     Bob|      80.0|\n",
            "|Tshirt|      Belmont|     Amy|      65.0|\n",
            "|Tshirt|    Palo Alto|   Craig|      45.0|\n",
            "|Jacket|Mountain View|     Bob|      90.0|\n",
            "|Tshirt|   Menlo Park|   Craig|     150.0|\n",
            "|Jacket|   Menlo Park|     Bob|     165.0|\n",
            "|Jacket|Mountain View|   Craig|     145.0|\n",
            "|Jacket|Mountain View|   Doris|     165.0|\n",
            "|Jacket|      Belmont|   Craig|      90.0|\n",
            "|Jacket|    Palo Alto|   Craig|      40.0|\n",
            "|Jacket|   Menlo Park|   Craig|     145.0|\n",
            "|Jacket|      Redmond|   Doris|     360.0|\n",
            "|Jacket|    Palo Alto|     Amy|      30.0|\n",
            "|Jacket|Mountain View|     Amy|     280.0|\n",
            "+------+-------------+--------+----------+\n",
            "only showing top 20 rows\n",
            "\n"
          ]
        }
      ]
    },
    {
      "cell_type": "markdown",
      "source": [
        "### c. Show store-wise sales summary of blue Tshirt\n"
      ],
      "metadata": {
        "id": "Jppk9zDMx0aQ"
      }
    },
    {
      "cell_type": "code",
      "source": [
        "# c. Show store-wise sales summary of blue T-shirt\n",
        "blue_tshirt_sales = data_cube.filter((col('category') == 'Tshirt') & (col('color') == 'blue')) \\\n",
        "                            .groupBy('storeid', 'city', 'category') \\\n",
        "                            .agg(sum('price').alias('SalesTotal'))\n",
        "blue_tshirt_sales.show()"
      ],
      "metadata": {
        "colab": {
          "base_uri": "https://localhost:8080/"
        },
        "id": "AU-j3CP_ueNg",
        "outputId": "cd0c4df8-06df-4d65-d4be-51813e69da05"
      },
      "execution_count": null,
      "outputs": [
        {
          "output_type": "stream",
          "name": "stdout",
          "text": [
            "+-------+-------------+--------+----------+\n",
            "|storeid|         city|category|SalesTotal|\n",
            "+-------+-------------+--------+----------+\n",
            "| store2|Mountain View|  Tshirt|      65.0|\n",
            "| store1|    Palo Alto|  Tshirt|      70.0|\n",
            "+-------+-------------+--------+----------+\n",
            "\n"
          ]
        }
      ]
    },
    {
      "cell_type": "markdown",
      "source": [
        "### d. List all 'Tshirts' (price <= 20) sold in 'California' to young people (age < 25)."
      ],
      "metadata": {
        "id": "ZXrRCT-tx6SK"
      }
    },
    {
      "cell_type": "code",
      "source": [
        "# d. List all 'Tshirts' (price <= 20) sold in 'California' to young people (age < 25)\n",
        "tshirts_in_ca_to_young_people = data_cube.filter((col('category') == 'Tshirt') & (col('state') == 'CA') & (col('age') < 25) & (col('price') <= 20))\n",
        "tshirts_in_ca_to_young_people.show()"
      ],
      "metadata": {
        "id": "7tmpM2M3wbbP",
        "colab": {
          "base_uri": "https://localhost:8080/"
        },
        "outputId": "da1fe0b1-3138-47de-9c3e-2c8dab56fccc"
      },
      "execution_count": null,
      "outputs": [
        {
          "output_type": "stream",
          "name": "stdout",
          "text": [
            "+-------+------+------+-----+-----+------+---+--------+-----+---------+-----------+-----+\n",
            "|storeid|itemid|custid|price|cname|gender|age|category|color|     city|     county|state|\n",
            "+-------+------+------+-----+-----+------+---+--------+-----+---------+-----------+-----+\n",
            "| store1|item1 |cust1 |   10|  Amy|     F| 20|  Tshirt| blue|Palo Alto|Santa Clara|   CA|\n",
            "| store1|item1 |cust2 |   15|  Bob|     M| 21|  Tshirt| blue|Palo Alto|Santa Clara|   CA|\n",
            "| store4|item3 |cust2 |   20|  Bob|     M| 21|  Tshirt|  red|  Belmont|  San Mateo|   CA|\n",
            "| store4|item3 |cust2 |   15|  Bob|     M| 21|  Tshirt|  red|  Belmont|  San Mateo|   CA|\n",
            "| store4|item3 |cust2 |   10|  Bob|     M| 21|  Tshirt|  red|  Belmont|  San Mateo|   CA|\n",
            "+-------+------+------+-----+-----+------+---+--------+-----+---------+-----------+-----+\n",
            "\n"
          ]
        }
      ]
    }
  ]
}