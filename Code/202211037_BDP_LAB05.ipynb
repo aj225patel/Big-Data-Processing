{
 "cells": [
  {
   "cell_type": "code",
   "execution_count": 0,
   "metadata": {
    "application/vnd.databricks.v1+cell": {
     "cellMetadata": {
      "byteLimit": 2048000,
      "rowLimit": 10000
     },
     "inputWidgets": {},
     "nuid": "e05f8ae3-b044-46ed-b599-246f55843a8e",
     "showTitle": false,
     "title": ""
    }
   },
   "outputs": [],
   "source": [
    "df_cust = spark.read.format(\"csv\").option(\"header\", \"true\").load(\"dbfs:/FileStore/shared_uploads/202211037@daiict.ac.in/US_Regional_Sales_Data_Customers.csv\")\n",
    "df_loc = spark.read.format(\"csv\").option(\"header\", \"true\").load(\"dbfs:/FileStore/shared_uploads/202211037@daiict.ac.in/US_Regional_Sales_Data_Store_Locations.csv\")\n",
    "df_prod = spark.read.format(\"csv\").option(\"header\", \"true\").load(\"dbfs:/FileStore/shared_uploads/202211037@daiict.ac.in/US_Regional_Sales_Data_Products.csv\")\n",
    "df_reg = spark.read.format(\"csv\").option(\"header\", \"true\").load(\"dbfs:/FileStore/shared_uploads/202211037@daiict.ac.in/US_Regional_Sales_Data_Regions.csv\")\n",
    "df_sales_team = spark.read.format(\"csv\").option(\"header\", \"true\").load(\"dbfs:/FileStore/shared_uploads/202211037@daiict.ac.in/US_Regional_Sales_Data_Sales_Team.csv\")\n",
    "df_sales_ord = spark.read.format(\"csv\").option(\"header\", \"true\").load(\"dbfs:/FileStore/shared_uploads/202211037@daiict.ac.in/US_Regional_Sales_Data_Sales_Order.csv\")"
   ]
  },
  {
   "cell_type": "code",
   "execution_count": 0,
   "metadata": {
    "application/vnd.databricks.v1+cell": {
     "cellMetadata": {
      "byteLimit": 2048000,
      "rowLimit": 10000
     },
     "inputWidgets": {},
     "nuid": "f077ef78-3670-4271-b0ab-2d9a11e78f81",
     "showTitle": false,
     "title": ""
    }
   },
   "outputs": [
    {
     "output_type": "stream",
     "name": "stdout",
     "output_type": "stream",
     "text": [
      "+-----------+--------------+\n|_CustomerID|Customer Names|\n+-----------+--------------+\n|          1|     Avon Corp|\n|          2|     WakeFern |\n|          3|  Elorac, Corp|\n|          4|     ETUDE Ltd|\n|          5|  Procter Corp|\n|          6| PEDIFIX, Corp|\n|          7|       New Ltd|\n|          8|  Medsep Group|\n|          9|           Ei |\n|         10|      21st Ltd|\n+-----------+--------------+\nonly showing top 10 rows\n\n"
     ]
    }
   ],
   "source": [
    "df_cust.show(10)"
   ]
  },
  {
   "cell_type": "code",
   "execution_count": 0,
   "metadata": {
    "application/vnd.databricks.v1+cell": {
     "cellMetadata": {
      "byteLimit": 2048000,
      "rowLimit": 10000
     },
     "inputWidgets": {},
     "nuid": "cfb8da46-584f-40e0-b520-b639d6e504ec",
     "showTitle": false,
     "title": ""
    }
   },
   "outputs": [
    {
     "output_type": "stream",
     "name": "stdout",
     "output_type": "stream",
     "text": [
      "+--------+-----------+--------------------+---------+--------+----+--------+----------+--------+----------+----------------+-------------+---------+----------+---------------+\n|_StoreID|  City Name|              County|StateCode|   State|Type|Latitude| Longitude|AreaCode|Population|Household Income|Median Income|Land Area|Water Area|      Time Zone|\n+--------+-----------+--------------------+---------+--------+----+--------+----------+--------+----------+----------------+-------------+---------+----------+---------------+\n|       1| Birmingham|Shelby County/Jef...|       AL| Alabama|City|33.52744| -86.79905|     205|    212461|           89972|        31061|378353942|   6591013|America/Chicago|\n|       2| Huntsville|Limestone County/...|       AL| Alabama|City|34.69901| -86.67298|     256|    190582|           78554|        48775|552604579|   3452021|America/Chicago|\n|       3|     Mobile|       Mobile County|       AL| Alabama|City|30.69436| -88.04305|     251|    194288|           76170|        38776|361044263| 105325210|America/Chicago|\n|       4| Montgomery|   Montgomery County|       AL| Alabama|City|32.36681| -86.29997|     334|    200602|           79866|        42927|413985435|   4411954|America/Chicago|\n|       5|Little Rock|      Pulaski County|       AR|Arkansas|City|34.74648| -92.28959|     501|    197992|           79902|        46085|307398785|   6758644|America/Chicago|\n|       6|   Chandler|     Maricopa County|       AZ| Arizona|City|33.30616|-111.84125|     480|    260828|           88973|        72695|168153308|    260378|America/Phoenix|\n|       7|    Gilbert|     Maricopa County|       AZ| Arizona|Town|33.35283|-111.78903|     480|    247542|           73617|        82424|176124143|    510475|America/Phoenix|\n|       8|   Glendale|     Maricopa County|       AZ| Arizona|City|33.53865|-112.18599|     623|    240126|           79152|        46776|153029354|   1003996|America/Phoenix|\n|       9|       Mesa|     Maricopa County|       AZ| Arizona|City|33.42227|-111.82264|     480|    471825|          168914|        48809|357097953|   1950781|America/Phoenix|\n|      10|     Peoria|Maricopa County/Y...|       AZ| Arizona|City| 33.7862|-112.30801|     928|    171237|           58588|        65314|455011748|   8864869|America/Phoenix|\n+--------+-----------+--------------------+---------+--------+----+--------+----------+--------+----------+----------------+-------------+---------+----------+---------------+\nonly showing top 10 rows\n\n"
     ]
    }
   ],
   "source": [
    "df_loc.show(10)"
   ]
  },
  {
   "cell_type": "code",
   "execution_count": 0,
   "metadata": {
    "application/vnd.databricks.v1+cell": {
     "cellMetadata": {
      "byteLimit": 2048000,
      "rowLimit": 10000
     },
     "inputWidgets": {},
     "nuid": "cc5d3964-cdbb-4f33-8bc9-5d0c375bbb32",
     "showTitle": false,
     "title": ""
    }
   },
   "outputs": [
    {
     "output_type": "stream",
     "name": "stdout",
     "output_type": "stream",
     "text": [
      "+----------+------------------+\n|_ProductID|      Product Name|\n+----------+------------------+\n|         1|          Cookware|\n|         2|      Photo Frames|\n|         3|       Table Lamps|\n|         4|         Serveware|\n|         5|Bathroom Furniture|\n|         6|         Computers|\n|         7|        Dinnerware|\n|         8|  Cocktail Glasses|\n|         9|          Baseball|\n|        10|          Blankets|\n+----------+------------------+\nonly showing top 10 rows\n\n"
     ]
    }
   ],
   "source": [
    "df_prod.show(10)"
   ]
  },
  {
   "cell_type": "code",
   "execution_count": 0,
   "metadata": {
    "application/vnd.databricks.v1+cell": {
     "cellMetadata": {
      "byteLimit": 2048000,
      "rowLimit": 10000
     },
     "inputWidgets": {},
     "nuid": "8b2ca50e-c90a-4aca-939e-dd8a047b7715",
     "showTitle": false,
     "title": ""
    }
   },
   "outputs": [
    {
     "output_type": "stream",
     "name": "stdout",
     "output_type": "stream",
     "text": [
      "+---------+--------------------+---------+\n|StateCode|               State|   Region|\n+---------+--------------------+---------+\n|       AL|             Alabama|    South|\n|       AR|            Arkansas|    South|\n|       AZ|             Arizona|     West|\n|       CA|          California|     West|\n|       CO|            Colorado|     West|\n|       CT|         Connecticut|Northeast|\n|       DC|District of Columbia|    South|\n|       DE|            Delaware|    South|\n|       FL|             Florida|    South|\n|       GA|             Georgia|    South|\n+---------+--------------------+---------+\nonly showing top 10 rows\n\n"
     ]
    }
   ],
   "source": [
    "df_reg.show(10)"
   ]
  },
  {
   "cell_type": "code",
   "execution_count": 0,
   "metadata": {
    "application/vnd.databricks.v1+cell": {
     "cellMetadata": {
      "byteLimit": 2048000,
      "rowLimit": 10000
     },
     "inputWidgets": {},
     "nuid": "006c969d-2cef-4e8e-8255-b037782591b0",
     "showTitle": false,
     "title": ""
    }
   },
   "outputs": [
    {
     "output_type": "stream",
     "name": "stdout",
     "output_type": "stream",
     "text": [
      "+------------+----------------+---------+\n|_SalesTeamID|      Sales Team|   Region|\n+------------+----------------+---------+\n|           1|  Adam Hernandez|Northeast|\n|           2|   Keith Griffin|Northeast|\n|           3|     Jerry Green|     West|\n|           4| Chris Armstrong|Northeast|\n|           5|   Stephen Payne|    South|\n|           6|  Joshua Bennett|Northeast|\n|           7|      Shawn Cook|  Midwest|\n|           8|    George Lewis|     West|\n|           9|     Joshua Ryan|  Midwest|\n|          10|Jonathan Hawkins|     West|\n+------------+----------------+---------+\nonly showing top 10 rows\n\n"
     ]
    }
   ],
   "source": [
    "df_sales_team.show(10)"
   ]
  },
  {
   "cell_type": "code",
   "execution_count": 0,
   "metadata": {
    "application/vnd.databricks.v1+cell": {
     "cellMetadata": {
      "byteLimit": 2048000,
      "rowLimit": 10000
     },
     "inputWidgets": {},
     "nuid": "590f7f4f-c8e2-48ee-887f-fe0b08f04410",
     "showTitle": false,
     "title": ""
    }
   },
   "outputs": [
    {
     "output_type": "stream",
     "name": "stdout",
     "output_type": "stream",
     "text": [
      "+-----------+-------------+-------------+------------+---------+---------+------------+------------+------------+-----------+--------+----------+--------------+----------------+----------+---------+\n|OrderNumber|Sales Channel|WarehouseCode|ProcuredDate|OrderDate| ShipDate|DeliveryDate|CurrencyCode|_SalesTeamID|_CustomerID|_StoreID|_ProductID|Order Quantity|Discount Applied|Unit Price|Unit Cost|\n+-----------+-------------+-------------+------------+---------+---------+------------+------------+------------+-----------+--------+----------+--------------+----------------+----------+---------+\n|SO - 000101|     In-Store| WARE-UHY1004|  12/31/2017|5/31/2018|6/14/2018|   6/19/2018|         USD|           6|         15|     259|        12|             5|           0.075|  1,963.10| 1,001.18|\n|SO - 000102|       Online| WARE-NMK1003|  12/31/2017|5/31/2018|6/22/2018|    7/2/2018|         USD|          14|         20|     196|        27|             3|           0.075|  3,939.60| 3,348.66|\n|SO - 000103|  Distributor| WARE-UHY1004|  12/31/2017|5/31/2018|6/21/2018|    7/1/2018|         USD|          21|         16|     213|        16|             1|            0.05|  1,775.50|   781.22|\n|SO - 000104|    Wholesale| WARE-NMK1003|  12/31/2017|5/31/2018| 6/2/2018|    6/7/2018|         USD|          28|         48|     107|        23|             8|           0.075|  2,324.90| 1,464.69|\n|SO - 000105|  Distributor| WARE-NMK1003|   4/10/2018|5/31/2018|6/16/2018|   6/26/2018|         USD|          22|         49|     111|        26|             8|             0.1|  1,822.40| 1,476.14|\n|SO - 000106|       Online| WARE-PUJ1005|  12/31/2017|5/31/2018| 6/8/2018|   6/13/2018|         USD|          12|         21|     285|         1|             5|            0.05|  1,038.50|   446.56|\n|SO - 000107|     In-Store| WARE-XYS1001|  12/31/2017|5/31/2018| 6/8/2018|   6/14/2018|         USD|          10|         14|       6|         5|             4|            0.15|  1,192.60|   536.67|\n|SO - 000108|     In-Store| WARE-PUJ1005|   4/10/2018|5/31/2018|6/26/2018|    7/1/2018|         USD|           6|          9|     280|        46|             5|            0.05|  1,815.70| 1,525.19|\n|SO - 000109|     In-Store| WARE-PUJ1005|  12/31/2017| 6/1/2018|6/16/2018|   6/21/2018|         USD|           4|          9|     299|        47|             4|             0.3|  3,879.30| 2,211.20|\n|SO - 000110|     In-Store| WARE-UHY1004|  12/31/2017| 6/1/2018|6/29/2018|    7/1/2018|         USD|          10|         33|     261|        13|             8|            0.05|  1,956.40| 1,212.97|\n+-----------+-------------+-------------+------------+---------+---------+------------+------------+------------+-----------+--------+----------+--------------+----------------+----------+---------+\nonly showing top 10 rows\n\n"
     ]
    }
   ],
   "source": [
    "df_sales_ord.show(10)"
   ]
  },
  {
   "cell_type": "markdown",
   "metadata": {
    "application/vnd.databricks.v1+cell": {
     "cellMetadata": {
      "byteLimit": 2048000,
      "rowLimit": 10000
     },
     "inputWidgets": {},
     "nuid": "9d98380c-01c8-4254-8cbc-1a4dde79dbe6",
     "showTitle": false,
     "title": ""
    }
   },
   "source": [
    "##1. Compute top-10 selling products in terms of numbers (i. e. sum(qty) )"
   ]
  },
  {
   "cell_type": "code",
   "execution_count": 0,
   "metadata": {
    "application/vnd.databricks.v1+cell": {
     "cellMetadata": {
      "byteLimit": 2048000,
      "rowLimit": 10000
     },
     "inputWidgets": {},
     "nuid": "6db3f80a-2639-418b-ac7a-1d03af3c49d6",
     "showTitle": false,
     "title": ""
    }
   },
   "outputs": [
    {
     "output_type": "stream",
     "name": "stdout",
     "output_type": "stream",
     "text": [
      "+----------------+--------------+\n|    Product Name|Total_Quantity|\n+----------------+--------------+\n|     Accessories|         956.0|\n|        Platters|         896.0|\n|Cocktail Glasses|         879.0|\n|       Serveware|         878.0|\n|            Rugs|         855.0|\n|    Collectibles|         854.0|\n|    Wine Storage|         837.0|\n|       Wardrobes|         832.0|\n|         Wreaths|         830.0|\n|Dining Furniture|         827.0|\n+----------------+--------------+\n\n"
     ]
    }
   ],
   "source": [
    "from pyspark.sql import SparkSession\n",
    " \n",
    "# Create a SparkSession\n",
    "spark = SparkSession.builder.appName(\"ProductQuantity\").getOrCreate()\n",
    " \n",
    "# Register the DataFrames as temporary tables to use in SQL queries\n",
    "df_prod.createOrReplaceTempView(\"df_prod\")\n",
    "df_sales_ord.createOrReplaceTempView(\"df_sales_ord\")\n",
    " \n",
    "# Write the SQL query using backticks to reference column names with spaces\n",
    "query = \"\"\"\n",
    "SELECT p.`Product Name`, SUM(s.`Order Quantity`) AS Total_Quantity\n",
    "FROM df_prod p\n",
    "JOIN df_sales_ord s\n",
    "ON p.`_ProductID` = s.`_ProductID`\n",
    "GROUP BY p.`Product Name`\n",
    "ORDER BY Total_Quantity DESC\n",
    "LIMIT 10\n",
    "\"\"\"\n",
    " \n",
    "# Execute the SQL query\n",
    "result = spark.sql(query)\n",
    " \n",
    "# Show the result\n",
    "result.show()"
   ]
  },
  {
   "cell_type": "code",
   "execution_count": 0,
   "metadata": {
    "application/vnd.databricks.v1+cell": {
     "cellMetadata": {
      "byteLimit": 2048000,
      "rowLimit": 10000
     },
     "inputWidgets": {},
     "nuid": "0e48c9b1-ddf7-4abf-9d9b-27eb5eb1fe00",
     "showTitle": false,
     "title": ""
    }
   },
   "outputs": [],
   "source": [
    "from pyspark.sql import functions as F"
   ]
  },
  {
   "cell_type": "code",
   "execution_count": 0,
   "metadata": {
    "application/vnd.databricks.v1+cell": {
     "cellMetadata": {
      "byteLimit": 2048000,
      "rowLimit": 10000
     },
     "inputWidgets": {},
     "nuid": "818d6e0e-c3a6-4500-9c42-4cb754bcba31",
     "showTitle": false,
     "title": ""
    }
   },
   "outputs": [
    {
     "output_type": "stream",
     "name": "stdout",
     "output_type": "stream",
     "text": [
      "+----------------+--------------+\n|    Product Name|Total_Quantity|\n+----------------+--------------+\n|     Accessories|         956.0|\n|        Platters|         896.0|\n|Cocktail Glasses|         879.0|\n|       Serveware|         878.0|\n|            Rugs|         855.0|\n|    Collectibles|         854.0|\n|    Wine Storage|         837.0|\n|       Wardrobes|         832.0|\n|         Wreaths|         830.0|\n|Dining Furniture|         827.0|\n+----------------+--------------+\nonly showing top 10 rows\n\n"
     ]
    }
   ],
   "source": [
    "df_prod.join(df_sales_ord, df_prod[\"_ProductID\"] == df_sales_ord[\"_ProductID\"])\\\n",
    "         .groupBy(df_prod[\"Product Name\"])\\\n",
    "         .agg(F.sum(df_sales_ord[\"Order Quantity\"]).alias(\"Total_Quantity\"))\\\n",
    "         .orderBy(F.desc(\"Total_Quantity\"))\\\n",
    "         .show(10)"
   ]
  },
  {
   "cell_type": "markdown",
   "metadata": {
    "application/vnd.databricks.v1+cell": {
     "cellMetadata": {
      "byteLimit": 2048000,
      "rowLimit": 10000
     },
     "inputWidgets": {},
     "nuid": "436c733b-11e2-4c71-aa42-05146dad0677",
     "showTitle": false,
     "title": ""
    }
   },
   "source": [
    "## 2. Compute top-10 selling products in terms of value (i. e. sum (qty*price) )"
   ]
  },
  {
   "cell_type": "code",
   "execution_count": 0,
   "metadata": {
    "application/vnd.databricks.v1+cell": {
     "cellMetadata": {
      "byteLimit": 2048000,
      "rowLimit": 10000
     },
     "inputWidgets": {},
     "nuid": "6e623c5c-0da5-4d9d-bf96-163c6d7028ad",
     "showTitle": false,
     "title": ""
    }
   },
   "outputs": [],
   "source": [
    "from pyspark.sql import SparkSession"
   ]
  },
  {
   "cell_type": "code",
   "execution_count": 0,
   "metadata": {
    "application/vnd.databricks.v1+cell": {
     "cellMetadata": {
      "byteLimit": 2048000,
      "rowLimit": 10000
     },
     "inputWidgets": {},
     "nuid": "15a5870f-5699-47fd-86bb-f64fb5060bdd",
     "showTitle": false,
     "title": ""
    }
   },
   "outputs": [
    {
     "output_type": "stream",
     "name": "stdout",
     "output_type": "stream",
     "text": [
      "+----------------+------------------+\n|    Product Name|         TotalGain|\n+----------------+------------------+\n|        Pendants|          150240.8|\n|     Accessories|          133376.9|\n|Cocktail Glasses|124492.70000000001|\n|          Phones|124037.10000000002|\n|        Platters|          122744.0|\n|     Table Lamps|          119172.9|\n| Home Fragrances|113960.29999999999|\n|    Collectibles|111796.20000000003|\n|           Vases|          110020.7|\n|        Bakeware|108399.29999999999|\n+----------------+------------------+\n\n"
     ]
    }
   ],
   "source": [
    "# Create a SparkSession\n",
    "spark = SparkSession.builder.appName(\"ProductGain\").getOrCreate()\n",
    " \n",
    "# Register the DataFrames as temporary tables to use in SQL queries\n",
    "df_prod.createOrReplaceTempView(\"df_prod\")\n",
    "df_sales_ord.createOrReplaceTempView(\"df_sales_ord\")\n",
    " \n",
    "# Write the SQL query using backticks to reference column names with spaces\n",
    "q = \"\"\" SELECT p.`Product Name`, SUM(s.`Order Quantity` * s.`Unit Price`) AS TotalGain\n",
    "FROM df_prod p\n",
    "JOIN df_sales_ord s\n",
    "ON p.`_ProductID` = s.`_ProductID`\n",
    "GROUP BY p.`Product Name`\n",
    "ORDER BY TotalGain DESC\n",
    "LIMIT 10 \"\"\"\n",
    " \n",
    "# Execute the SQL query\n",
    "result = spark.sql(q)\n",
    " \n",
    "# Show the result\n",
    "result.show()"
   ]
  },
  {
   "cell_type": "code",
   "execution_count": 0,
   "metadata": {
    "application/vnd.databricks.v1+cell": {
     "cellMetadata": {
      "byteLimit": 2048000,
      "rowLimit": 10000
     },
     "inputWidgets": {},
     "nuid": "a1fc2a89-147c-4e0b-859a-d88115256a2e",
     "showTitle": false,
     "title": ""
    }
   },
   "outputs": [],
   "source": [
    "from pyspark.sql import functions as F"
   ]
  },
  {
   "cell_type": "code",
   "execution_count": 0,
   "metadata": {
    "application/vnd.databricks.v1+cell": {
     "cellMetadata": {
      "byteLimit": 2048000,
      "rowLimit": 10000
     },
     "inputWidgets": {},
     "nuid": "92966094-491f-4a3b-b0d0-24a2d57cf968",
     "showTitle": false,
     "title": ""
    }
   },
   "outputs": [
    {
     "output_type": "stream",
     "name": "stdout",
     "output_type": "stream",
     "text": [
      "+----------------+------------------+\n|    Product Name|     Total_Revenue|\n+----------------+------------------+\n|        Pendants|          150240.8|\n|     Accessories|          133376.9|\n|Cocktail Glasses|124492.70000000001|\n|          Phones|124037.10000000002|\n|        Platters|          122744.0|\n|     Table Lamps|          119172.9|\n| Home Fragrances|113960.29999999999|\n|    Collectibles|111796.20000000003|\n|           Vases|          110020.7|\n|        Bakeware|108399.29999999999|\n+----------------+------------------+\nonly showing top 10 rows\n\n"
     ]
    }
   ],
   "source": [
    "df_prod.join(df_sales_ord, df_prod[\"_ProductID\"] == df_sales_ord[\"_ProductID\"])\\\n",
    "         .groupBy(df_prod[\"Product Name\"])\\\n",
    "         .agg(F.sum(df_sales_ord[\"Order Quantity\"]*df_sales_ord[\"Unit Price\"]).alias(\"Total_Revenue\"))\\\n",
    "         .orderBy(F.desc(\"Total_Revenue\"))\\\n",
    "         .show(10)"
   ]
  },
  {
   "cell_type": "markdown",
   "metadata": {
    "application/vnd.databricks.v1+cell": {
     "cellMetadata": {
      "byteLimit": 2048000,
      "rowLimit": 10000
     },
     "inputWidgets": {},
     "nuid": "95b1e309-7f83-472b-b1aa-9824f30baba8",
     "showTitle": false,
     "title": ""
    }
   },
   "source": [
    "## 3. Compute top-10 profit making products. Profit = sum(qty*(price-cost))"
   ]
  },
  {
   "cell_type": "code",
   "execution_count": 0,
   "metadata": {
    "application/vnd.databricks.v1+cell": {
     "cellMetadata": {
      "byteLimit": 2048000,
      "rowLimit": 10000
     },
     "inputWidgets": {},
     "nuid": "4747101c-7b39-41e1-a2f1-033ccf0b7b23",
     "showTitle": false,
     "title": ""
    }
   },
   "outputs": [
    {
     "output_type": "stream",
     "name": "stdout",
     "output_type": "stream",
     "text": [
      "+------------------+------------------+\n|      Product Name|       TotalProfit|\n+------------------+------------------+\n|          Pendants|55020.759999999995|\n|       Accessories| 52586.45000000001|\n|            Phones|50823.050000000025|\n|          Platters|          46374.19|\n|  Dining Furniture|44116.159999999996|\n|       Table Lamps|43996.420000000006|\n|   Home Fragrances|          42046.68|\n|  Cocktail Glasses|          41566.85|\n|          Bakeware|41455.780000000006|\n|Bathroom Furniture|          41103.11|\n+------------------+------------------+\n\n"
     ]
    }
   ],
   "source": [
    "# Create a SparkSession\n",
    "spark = SparkSession.builder.appName(\"ProductProfit\").getOrCreate()\n",
    " \n",
    "# Register the DataFrames as temporary tables to use in SQL queries\n",
    "df_prod.createOrReplaceTempView(\"df_prod\")\n",
    "df_sales_ord.createOrReplaceTempView(\"df_sales_ord\")\n",
    " \n",
    "# Write the SQL query using backticks to reference column names with spaces\n",
    "q = \"\"\"SELECT p.`Product Name`, SUM(s.`Order Quantity` * (s.`Unit Price` - s.`Unit Cost`)) AS TotalProfit\n",
    "FROM df_prod p\n",
    "JOIN df_sales_ord s\n",
    "ON p.`_ProductID` = s.`_ProductID`\n",
    "GROUP BY p.`Product Name`\n",
    "ORDER BY TotalProfit DESC\n",
    "LIMIT 10\n",
    "\"\"\"\n",
    " \n",
    "# Execute the SQL query\n",
    "result = spark.sql(q)\n",
    " \n",
    "# Show the result\n",
    "result.show()"
   ]
  },
  {
   "cell_type": "code",
   "execution_count": 0,
   "metadata": {
    "application/vnd.databricks.v1+cell": {
     "cellMetadata": {
      "byteLimit": 2048000,
      "rowLimit": 10000
     },
     "inputWidgets": {},
     "nuid": "774dbdfa-ab69-46d1-beac-69d3b14d86e7",
     "showTitle": false,
     "title": ""
    }
   },
   "outputs": [
    {
     "output_type": "stream",
     "name": "stdout",
     "output_type": "stream",
     "text": [
      "+------------------+------------------+\n|      Product Name|      Total_Profit|\n+------------------+------------------+\n|          Pendants|55020.759999999995|\n|       Accessories| 52586.45000000001|\n|            Phones|50823.050000000025|\n|          Platters|          46374.19|\n|  Dining Furniture|44116.159999999996|\n|       Table Lamps|43996.420000000006|\n|   Home Fragrances|          42046.68|\n|  Cocktail Glasses|          41566.85|\n|          Bakeware|41455.780000000006|\n|Bathroom Furniture|          41103.11|\n+------------------+------------------+\nonly showing top 10 rows\n\n"
     ]
    }
   ],
   "source": [
    "df_prod.join(df_sales_ord, df_prod[\"_ProductID\"] == df_sales_ord[\"_ProductID\"])\\\n",
    "         .groupBy(df_prod[\"Product Name\"])\\\n",
    "         .agg(F.sum(df_sales_ord[\"Order Quantity\"]*(df_sales_ord[\"Unit Price\"] - df_sales_ord[\"Unit Cost\"])).alias(\"Total_Profit\"))\\\n",
    "         .orderBy(F.desc(\"Total_Profit\"))\\\n",
    "         .show(10)"
   ]
  },
  {
   "cell_type": "markdown",
   "metadata": {
    "application/vnd.databricks.v1+cell": {
     "cellMetadata": {
      "byteLimit": 2048000,
      "rowLimit": 10000
     },
     "inputWidgets": {},
     "nuid": "dfd706aa-d6ac-480b-a81e-ee2fade6b0a6",
     "showTitle": false,
     "title": ""
    }
   },
   "source": [
    "## 4. Give top-3 stores selling product product number 25"
   ]
  },
  {
   "cell_type": "code",
   "execution_count": 0,
   "metadata": {
    "application/vnd.databricks.v1+cell": {
     "cellMetadata": {
      "byteLimit": 2048000,
      "rowLimit": 10000
     },
     "inputWidgets": {},
     "nuid": "9dc3f7a5-4e44-436b-bd08-a72f040a784b",
     "showTitle": false,
     "title": ""
    }
   },
   "outputs": [
    {
     "output_type": "stream",
     "name": "stdout",
     "output_type": "stream",
     "text": [
      "+--------+----------+---------+\n|_StoreID| City Name|TotalSale|\n+--------+----------+---------+\n|      56|    Orange|     16.0|\n|      26|Costa Mesa|     14.0|\n|     188|     Perry|     13.0|\n+--------+----------+---------+\n\n"
     ]
    }
   ],
   "source": [
    "# Create a SparkSession\n",
    "spark = SparkSession.builder.appName(\"TotalSale\").getOrCreate()\n",
    " \n",
    "# Register the DataFrames as temporary tables to use in SQL queries\n",
    "df_sales_ord.createOrReplaceTempView(\"df_sales_ord\")\n",
    "df_loc.createOrReplaceTempView(\"df_loc\")\n",
    " \n",
    "# Write the SQL query using backticks to reference column names with spaces\n",
    "q = \"\"\"\n",
    "SELECT sl.`_StoreID`, sl.`City Name`, SUM(so.`Order Quantity`) AS TotalSale\n",
    "FROM df_sales_ord so\n",
    "JOIN df_loc sl ON so.`_StoreID` = sl.`_StoreID`\n",
    "WHERE so.`_ProductID` = 25\n",
    "GROUP BY sl.`_StoreID`, sl.`City Name`\n",
    "ORDER BY TotalSale DESC, sl.`_StoreID` ASC\n",
    "LIMIT 3\n",
    "\"\"\"\n",
    " \n",
    "# Execute the SQL query\n",
    "result = spark.sql(q)\n",
    " \n",
    "# Show the result\n",
    "result.show()"
   ]
  },
  {
   "cell_type": "code",
   "execution_count": 0,
   "metadata": {
    "application/vnd.databricks.v1+cell": {
     "cellMetadata": {
      "byteLimit": 2048000,
      "rowLimit": 10000
     },
     "inputWidgets": {},
     "nuid": "cb999956-4a08-4bad-ba00-bf98a61378da",
     "showTitle": false,
     "title": ""
    }
   },
   "outputs": [
    {
     "output_type": "stream",
     "name": "stdout",
     "output_type": "stream",
     "text": [
      "+--------+----------+----------+\n|_StoreID| City Name|Total_Sale|\n+--------+----------+----------+\n|      56|    Orange|      16.0|\n|      26|Costa Mesa|      14.0|\n|     188|     Perry|      13.0|\n+--------+----------+----------+\nonly showing top 3 rows\n\n"
     ]
    }
   ],
   "source": [
    "df_sales_ord.join(df_loc, df_sales_ord[\"_StoreID\"] == df_loc[\"_StoreID\"])\\\n",
    "            .where(df_sales_ord[\"_ProductID\"] == 25)\\\n",
    "            .groupBy(df_loc[\"_StoreID\"],\"City Name\")\\\n",
    "            .agg(F.sum(df_sales_ord[\"Order Quantity\"]).alias(\"Total_Sale\"))\\\n",
    "            .orderBy(F.desc(\"Total_Sale\"), F.asc(df_loc[\"_StoreID\"]))\\\n",
    "            .show(3)"
   ]
  },
  {
   "cell_type": "markdown",
   "metadata": {
    "application/vnd.databricks.v1+cell": {
     "cellMetadata": {
      "byteLimit": 2048000,
      "rowLimit": 10000
     },
     "inputWidgets": {},
     "nuid": "509f81a1-46b6-4641-97ec-87a24bc14024",
     "showTitle": false,
     "title": ""
    }
   },
   "source": [
    "## 5. Give top-3 products sold in midwest region"
   ]
  },
  {
   "cell_type": "code",
   "execution_count": 0,
   "metadata": {
    "application/vnd.databricks.v1+cell": {
     "cellMetadata": {
      "byteLimit": 2048000,
      "rowLimit": 10000
     },
     "inputWidgets": {},
     "nuid": "0b0db27d-7ab3-4d0e-9039-7001c08e66ac",
     "showTitle": false,
     "title": ""
    }
   },
   "outputs": [
    {
     "output_type": "stream",
     "name": "stdout",
     "output_type": "stream",
     "text": [
      "+----------+------------+-------+\n|_ProductID|Product Name|TopSale|\n+----------+------------+-------+\n|        25|TV and video|  224.0|\n|        23| Accessories|  206.0|\n|        29|    Pendants|  206.0|\n+----------+------------+-------+\n\n"
     ]
    }
   ],
   "source": [
    " # Create a SparkSession\n",
    "spark = SparkSession.builder.appName(\"MidwestTopSale\").getOrCreate()\n",
    " \n",
    "# Register the DataFrames as temporary tables to use in SQL queries\n",
    "df_reg.createOrReplaceTempView(\"df_reg\")\n",
    "df_loc.createOrReplaceTempView(\"df_loc\")\n",
    "df_sales_ord.createOrReplaceTempView(\"df_sales_ord\")\n",
    "df_prod.createOrReplaceTempView(\"df_prod\")\n",
    " \n",
    "# Write the SQL query using backticks to reference column names with spaces\n",
    "q = \"\"\"\n",
    "SELECT p.`_ProductID`, p.`Product Name`, SUM(so.`Order Quantity`) AS TopSale\n",
    "FROM df_reg r\n",
    "JOIN df_loc sl ON r.`StateCode` = sl.`StateCode`\n",
    "JOIN df_sales_ord so ON sl.`_StoreID` = so.`_StoreID`\n",
    "JOIN df_prod p ON p.`_ProductID` = so.`_ProductID`\n",
    "WHERE r.`Region` = \"Midwest\"\n",
    "GROUP BY p.`_ProductID`, p.`Product Name`\n",
    "ORDER BY TopSale DESC\n",
    "LIMIT 3\n",
    "\"\"\"\n",
    " \n",
    "# Execute the SQL query\n",
    "result = spark.sql(q)\n",
    " \n",
    "# Show the result\n",
    "result.show()"
   ]
  },
  {
   "cell_type": "code",
   "execution_count": 0,
   "metadata": {
    "application/vnd.databricks.v1+cell": {
     "cellMetadata": {
      "byteLimit": 2048000,
      "rowLimit": 10000
     },
     "inputWidgets": {},
     "nuid": "4a8e2240-f1cb-4913-8bca-53855695fdb1",
     "showTitle": false,
     "title": ""
    }
   },
   "outputs": [
    {
     "output_type": "stream",
     "name": "stdout",
     "output_type": "stream",
     "text": [
      "+----------+------------+-------+\n|_ProductID|Product Name|TopSale|\n+----------+------------+-------+\n|        25|TV and video|  224.0|\n|        29|    Pendants|  206.0|\n|        23| Accessories|  206.0|\n+----------+------------+-------+\nonly showing top 3 rows\n\n"
     ]
    }
   ],
   "source": [
    "df_reg.where(df_reg[\"Region\"] == \"Midwest\")\\\n",
    "           .join(df_loc, df_reg[\"StateCode\"] == df_loc[\"StateCode\"])\\\n",
    "           .join(df_sales_ord, df_loc[\"_StoreID\"] == df_sales_ord[\"_StoreID\"])\\\n",
    "           .join(df_prod, df_prod[\"_ProductID\"] == df_sales_ord[\"_ProductID\"])\\\n",
    "           .groupBy(df_prod[\"_ProductID\"], df_prod[\"Product Name\"])\\\n",
    "           .agg(F.sum(df_sales_ord[\"Order Quantity\"]).alias(\"TopSale\"))\\\n",
    "           .orderBy(F.desc(\"TopSale\"))\\\n",
    "           .show(3)"
   ]
  },
  {
   "cell_type": "markdown",
   "metadata": {
    "application/vnd.databricks.v1+cell": {
     "cellMetadata": {
      "byteLimit": 2048000,
      "rowLimit": 10000
     },
     "inputWidgets": {},
     "nuid": "a8bf1aeb-ec12-4c5e-8223-9a415e63b8a2",
     "showTitle": false,
     "title": ""
    }
   },
   "source": [
    "## 6. Give region wise quantity sold for each product. Compute: Region, Product ID, Sum(Qty)"
   ]
  },
  {
   "cell_type": "code",
   "execution_count": 0,
   "metadata": {
    "application/vnd.databricks.v1+cell": {
     "cellMetadata": {
      "byteLimit": 2048000,
      "rowLimit": 10000
     },
     "inputWidgets": {},
     "nuid": "74976e14-e860-40a8-ac94-31e291efa2fc",
     "showTitle": false,
     "title": ""
    }
   },
   "outputs": [
    {
     "output_type": "stream",
     "name": "stdout",
     "output_type": "stream",
     "text": [
      "+-------+----------+----------+\n| Region|_ProductID|TotalQuant|\n+-------+----------+----------+\n|Midwest|         1|     192.0|\n|Midwest|        10|     207.0|\n|Midwest|        11|     233.0|\n|Midwest|        12|     218.0|\n|Midwest|        13|     194.0|\n|Midwest|        14|     202.0|\n|Midwest|        15|     164.0|\n|Midwest|        16|     241.0|\n|Midwest|        17|     192.0|\n|Midwest|        18|     211.0|\n|Midwest|        19|     209.0|\n|Midwest|         2|     212.0|\n|Midwest|        20|     224.0|\n|Midwest|        21|     184.0|\n|Midwest|        22|     247.0|\n|Midwest|        23|     274.0|\n|Midwest|        24|     213.0|\n|Midwest|        25|     246.0|\n|Midwest|        26|     192.0|\n|Midwest|        27|     276.0|\n+-------+----------+----------+\nonly showing top 20 rows\n\n"
     ]
    }
   ],
   "source": [
    "# Create a SparkSession\n",
    "spark = SparkSession.builder.appName(\"TotalQuantitySoldByRegion\").getOrCreate()\n",
    " \n",
    "# Register the DataFrames as temporary tables to use in SQL queries\n",
    "df_sales_team.createOrReplaceTempView(\"df_sales_team\")\n",
    "df_sales_ord.createOrReplaceTempView(\"df_sales_ord\")\n",
    " \n",
    "# Write the SQL query using backticks to reference column names with spaces\n",
    "q = \"\"\"SELECT st.`Region`, so.`_ProductID`, SUM(so.`Order Quantity`) AS TotalQuant\n",
    "FROM df_sales_team st\n",
    "JOIN df_sales_ord so ON st.`_SalesTeamID` = so.`_SalesTeamID`\n",
    "GROUP BY st.`Region`, so.`_ProductID`\n",
    "ORDER BY st.`Region`, so.`_ProductID`\"\"\"\n",
    " \n",
    "# Execute the SQL query\n",
    "result = spark.sql(q)\n",
    " \n",
    "# Show the result\n",
    "result.show()"
   ]
  },
  {
   "cell_type": "code",
   "execution_count": 0,
   "metadata": {
    "application/vnd.databricks.v1+cell": {
     "cellMetadata": {
      "byteLimit": 2048000,
      "rowLimit": 10000
     },
     "inputWidgets": {},
     "nuid": "e4cc9d92-cb03-46df-a0fe-a8ce75ad7ee7",
     "showTitle": false,
     "title": ""
    }
   },
   "outputs": [
    {
     "output_type": "stream",
     "name": "stdout",
     "output_type": "stream",
     "text": [
      "+-------+----------+----------+\n| Region|_ProductID|TotalQuant|\n+-------+----------+----------+\n|Midwest|         1|     192.0|\n|Midwest|        10|     207.0|\n|Midwest|        11|     233.0|\n|Midwest|        12|     218.0|\n|Midwest|        13|     194.0|\n|Midwest|        14|     202.0|\n|Midwest|        15|     164.0|\n|Midwest|        16|     241.0|\n|Midwest|        17|     192.0|\n|Midwest|        18|     211.0|\n|Midwest|        19|     209.0|\n|Midwest|         2|     212.0|\n|Midwest|        20|     224.0|\n|Midwest|        21|     184.0|\n|Midwest|        22|     247.0|\n|Midwest|        23|     274.0|\n|Midwest|        24|     213.0|\n|Midwest|        25|     246.0|\n|Midwest|        26|     192.0|\n|Midwest|        27|     276.0|\n+-------+----------+----------+\nonly showing top 20 rows\n\n"
     ]
    }
   ],
   "source": [
    "df_sales_team.join(df_sales_ord, df_sales_ord[\"_SalesTeamID\"] == df_sales_team[\"_SalesTeamID\"])\\\n",
    "           .groupBy(df_sales_team[\"Region\"], df_sales_ord[\"_ProductID\"])\\\n",
    "           .agg(F.sum(df_sales_ord[\"Order Quantity\"]).alias(\"TotalQuant\"))\\\n",
    "           .orderBy(df_sales_team[\"Region\"], df_sales_ord[\"_ProductID\"])\\\n",
    "           .show()"
   ]
  },
  {
   "cell_type": "markdown",
   "metadata": {
    "application/vnd.databricks.v1+cell": {
     "cellMetadata": {
      "byteLimit": 2048000,
      "rowLimit": 10000
     },
     "inputWidgets": {},
     "nuid": "7a8005bb-e935-4c7c-a6a9-5f0bea37a6b4",
     "showTitle": false,
     "title": ""
    }
   },
   "source": [
    "## 7. Compute Average monthly sale in terms of numbers at each store; that , that is on average what numbers of a product are sold on a store in a month"
   ]
  },
  {
   "cell_type": "code",
   "execution_count": 0,
   "metadata": {
    "application/vnd.databricks.v1+cell": {
     "cellMetadata": {
      "byteLimit": 2048000,
      "rowLimit": 10000
     },
     "inputWidgets": {},
     "nuid": "1595e541-4ed1-45a7-8c5a-774ccb687fbe",
     "showTitle": false,
     "title": ""
    }
   },
   "outputs": [
    {
     "output_type": "stream",
     "name": "stdout",
     "output_type": "stream",
     "text": [
      "+--------+------------------+\n|_StoreID|    AvgMonthlySale|\n+--------+------------------+\n|       1| 6.421052631578948|\n|      10|               4.5|\n|     100| 7.714285714285714|\n|     101| 5.222222222222222|\n|     102| 6.421052631578948|\n|     103|4.7894736842105265|\n|     104| 4.444444444444445|\n|     105|               4.5|\n|     106|              4.05|\n|     107|               6.8|\n|     108| 4.461538461538462|\n|     109| 3.888888888888889|\n|      11|5.2727272727272725|\n|     110| 6.684210526315789|\n|     111|6.3076923076923075|\n|     112|             5.625|\n|     113| 6.666666666666667|\n|     114|            5.3125|\n|     115| 6.214285714285714|\n|     116| 5.722222222222222|\n|     117| 5.153846153846154|\n|     118| 5.111111111111111|\n|     119| 5.722222222222222|\n|      12| 6.684210526315789|\n|     120| 5.833333333333333|\n|     121|5.7727272727272725|\n|     122|               6.4|\n|     123| 5.166666666666667|\n|     124| 6.071428571428571|\n|     125| 9.466666666666667|\n|     126| 6.466666666666667|\n|     127|               6.0|\n|     128|              6.48|\n|     129|              6.45|\n|      13| 4.888888888888889|\n|     130|               6.0|\n|     131| 8.333333333333334|\n|     132| 6.421052631578948|\n|     133|               5.0|\n|     134| 9.357142857142858|\n|     135| 6.315789473684211|\n|     136|              4.75|\n|     137|               5.6|\n|     138| 4.826086956521739|\n|     139|               5.0|\n|      14|               4.7|\n|     140|             5.375|\n|     141| 4.666666666666667|\n|     142| 4.055555555555555|\n|     143| 6.130434782608695|\n|     144| 5.166666666666667|\n|     145|            5.6875|\n|     146|               6.0|\n|     147|               7.6|\n|     148| 6.333333333333333|\n|     149|            6.5625|\n|      15|            4.9375|\n|     150| 5.647058823529412|\n|     151| 4.578947368421052|\n|     152|              6.25|\n|     153|               7.0|\n|     154|               6.5|\n|     155| 5.380952380952381|\n|     156| 5.642857142857143|\n|     157| 5.466666666666667|\n|     158| 5.230769230769231|\n|     159| 5.571428571428571|\n|      16| 5.315789473684211|\n|     160| 5.428571428571429|\n|     161|              5.45|\n|     162|4.9523809523809526|\n|     163| 5.866666666666666|\n|     164|               4.5|\n|     165|            5.9375|\n|     166|              6.96|\n|     167| 7.266666666666667|\n|     168|               6.6|\n|     169|               4.5|\n|      17| 6.956521739130435|\n|     170| 6.117647058823529|\n|     171| 5.368421052631579|\n|     172| 4.222222222222222|\n|     173| 5.578947368421052|\n|     174|               5.5|\n|     175| 6.714285714285714|\n|     176| 5.333333333333333|\n|     177|               6.0|\n|     178| 6.444444444444445|\n|     179| 4.384615384615385|\n|      18| 6.769230769230769|\n|     180| 6.357142857142857|\n|     181|            5.6875|\n|     182| 6.833333333333333|\n|     183| 7.944444444444445|\n|     184|               6.0|\n|     185|               5.5|\n|     186| 6.666666666666667|\n|     187| 5.611111111111111|\n|     188|             5.625|\n|     189| 7.444444444444445|\n|      19|               5.4|\n|     190| 4.428571428571429|\n|     191| 6.615384615384615|\n|     192| 6.928571428571429|\n|     193| 5.647058823529412|\n|     194| 5.857142857142857|\n|     195|             5.625|\n|     196|               6.6|\n|     197|               6.6|\n|     198|             5.375|\n|     199|5.9411764705882355|\n|       2|            5.8125|\n|      20|               5.0|\n|     200| 5.190476190476191|\n|     201|               6.5|\n|     202|              5.45|\n|     203|               5.8|\n|     204| 5.421052631578948|\n|     205| 5.333333333333333|\n|     206| 7.230769230769231|\n|     207| 9.071428571428571|\n|     208| 6.055555555555555|\n|     209|            7.0625|\n|      21| 5.961538461538462|\n|     210| 5.916666666666667|\n|     211|               6.8|\n|     212| 7.764705882352941|\n|     213|               5.2|\n|     214|               6.6|\n|     215| 5.882352941176471|\n|     216| 5.181818181818182|\n|     217| 6.705882352941177|\n|     218| 7.714285714285714|\n|     219|              4.75|\n|      22| 7.052631578947368|\n|     220| 7.214285714285714|\n|     221| 5.473684210526316|\n|     222| 5.923076923076923|\n|     223| 5.461538461538462|\n|     224| 5.785714285714286|\n|     225|               5.2|\n|     226|               4.5|\n|     227| 6.909090909090909|\n|     228| 5.545454545454546|\n|     229| 5.454545454545454|\n|      23| 5.454545454545454|\n|     230|               6.9|\n|     231| 6.411764705882353|\n|     232|               7.5|\n|     233| 7.357142857142857|\n|     234| 6.470588235294118|\n|     235| 5.076923076923077|\n|     236| 5.647058823529412|\n|     237| 5.578947368421052|\n|     238| 7.111111111111111|\n|     239|            4.9375|\n|      24| 8.666666666666666|\n|     240|               6.2|\n|     241| 6.285714285714286|\n|     242| 6.933333333333334|\n|     243| 5.066666666666666|\n|     244|            7.6875|\n|     245| 5.416666666666667|\n|     246| 6.842105263157895|\n|     247| 5.181818181818182|\n|     248| 5.315789473684211|\n|     249| 5.571428571428571|\n|      25| 5.066666666666666|\n|     250| 5.866666666666666|\n|     251| 6.533333333333333|\n|     252| 4.611111111111111|\n|     253| 4.714285714285714|\n|     254|3.6363636363636362|\n|     255|6.0588235294117645|\n|     256| 6.166666666666667|\n|     257| 6.666666666666667|\n|     258| 5.315789473684211|\n|     259| 4.928571428571429|\n|      26|              7.12|\n|     260| 5.761904761904762|\n|     261| 7.769230769230769|\n|     262| 6.333333333333333|\n|     263|5.0588235294117645|\n|     264| 5.428571428571429|\n|     265| 4.833333333333333|\n|     266|            5.4375|\n|     267| 3.272727272727273|\n|     268|               5.0|\n|     269|             5.125|\n|      27| 5.428571428571429|\n|     270| 5.857142857142857|\n|     271| 6.857142857142857|\n|     272| 6.705882352941177|\n|     273| 5.636363636363637|\n|     274| 4.923076923076923|\n|     275|               4.1|\n|     276|            6.5625|\n|     277| 4.533333333333333|\n|     278|              6.55|\n|     279| 6.470588235294118|\n|      28| 5.842105263157895|\n|     280| 4.611111111111111|\n|     281| 5.176470588235294|\n|     282|               6.5|\n|     283| 5.428571428571429|\n|     284|               7.0|\n|     285|7.0588235294117645|\n|     286| 6.157894736842105|\n|     287|            6.4375|\n|     288| 5.882352941176471|\n|     289|               4.8|\n|      29|               7.0|\n|     290| 5.933333333333334|\n|     291| 5.304347826086956|\n|     292| 6.066666666666666|\n|     293| 5.785714285714286|\n|     294| 5.470588235294118|\n|     295| 5.421052631578948|\n|     296| 5.176470588235294|\n|     297| 6.285714285714286|\n|     298| 6.117647058823529|\n|     299| 5.421052631578948|\n|       3|             5.625|\n|      30|               6.5|\n|     300|               6.4|\n|     301| 6.571428571428571|\n|     302| 6.666666666666667|\n|     303|              7.25|\n|     304|               4.5|\n|     305| 6.615384615384615|\n|     306| 6.352941176470588|\n|     307| 4.444444444444445|\n|     308| 8.636363636363637|\n|     309|5.2105263157894735|\n|      31|              4.95|\n|     310| 5.571428571428571|\n|     311|               4.8|\n|     312| 4.526315789473684|\n|     313| 7.764705882352941|\n|     314|6.2727272727272725|\n|     315| 4.352941176470588|\n|     316| 5.684210526315789|\n|     317| 4.933333333333334|\n|     318| 8.866666666666667|\n|     319|             4.125|\n|      32|5.0588235294117645|\n|     320| 6.333333333333333|\n|     321| 6.428571428571429|\n|     322|               8.0|\n|     323|               6.0|\n|     324|              6.75|\n|     325| 4.882352941176471|\n|     326|6.7894736842105265|\n|     327| 5.473684210526316|\n|     328| 8.047619047619047|\n|     329| 4.785714285714286|\n|      33| 7.285714285714286|\n|     330| 4.578947368421052|\n|     331|               6.0|\n|     332| 6.333333333333333|\n|     333|            7.5625|\n|     334| 5.588235294117647|\n|     335|5.2105263157894735|\n|     336| 5.722222222222222|\n|     337|            5.5625|\n|     338| 7.230769230769231|\n|     339| 5.714285714285714|\n|      34|               6.9|\n|     340|              5.05|\n|     341| 5.260869565217392|\n|     342|            5.5625|\n|     343| 5.714285714285714|\n|     344| 6.235294117647059|\n|     345| 5.846153846153846|\n|     346| 5.285714285714286|\n|     347|               8.0|\n|     348| 5.666666666666667|\n|     349|               4.3|\n|      35| 4.647058823529412|\n|     350| 6.666666666666667|\n|     351| 6.857142857142857|\n|     352| 5.611111111111111|\n|     353| 5.571428571428571|\n|     354| 4.076923076923077|\n|     355| 6.130434782608695|\n|     356|               6.4|\n|     357|               5.6|\n|     358| 5.555555555555555|\n|     359| 6.285714285714286|\n|      36|               5.5|\n|     360| 5.764705882352941|\n|     361|               4.8|\n|     362| 5.181818181818182|\n|     363|            5.1875|\n|     364| 5.318181818181818|\n|     365|               4.2|\n|     366| 4.739130434782608|\n|     367|              5.75|\n|      37| 4.944444444444445|\n|      38| 6.615384615384615|\n|      39|               5.0|\n|       4| 5.230769230769231|\n|      40| 6.076923076923077|\n|      41| 6.458333333333333|\n|      42| 6.684210526315789|\n|      43| 6.555555555555555|\n|      44| 4.866666666666666|\n|      45|            7.0625|\n|      46|4.9411764705882355|\n|      47|               7.5|\n|      48| 6.117647058823529|\n|      49|            4.8125|\n|       5| 4.933333333333334|\n|      50|              3.75|\n|      51|               6.0|\n|      52|               5.9|\n|      53| 4.222222222222222|\n|      54| 6.588235294117647|\n|      55|               5.0|\n|      56| 5.611111111111111|\n|      57| 7.133333333333334|\n|      58| 5.826086956521739|\n|      59|               6.5|\n|       6| 5.833333333333333|\n|      60| 5.809523809523809|\n|      61| 5.294117647058823|\n|      62| 5.333333333333333|\n|      63| 7.166666666666667|\n|      64| 5.842105263157895|\n|      65|              5.35|\n|      66| 5.714285714285714|\n|      67| 4.333333333333333|\n|      68| 4.904761904761905|\n|      69| 6.133333333333334|\n|       7| 5.157894736842105|\n|      70| 5.176470588235294|\n|      71| 6.764705882352941|\n|      72| 5.428571428571429|\n|      73| 7.529411764705882|\n|      74| 7.363636363636363|\n|      75|               6.5|\n|      76|               6.8|\n|      77|               6.0|\n|      78|            4.8125|\n|      79| 6.235294117647059|\n|       8|               6.0|\n|      80|              4.92|\n|      81| 5.181818181818182|\n|      82| 5.809523809523809|\n|      83|               5.9|\n|      84| 5.083333333333333|\n|      85|              6.35|\n|      86|              5.95|\n|      87|5.7894736842105265|\n|      88| 6.666666666666667|\n|      89|3.9411764705882355|\n|       9| 5.466666666666667|\n|      90| 5.363636363636363|\n|      91|               7.0|\n|      92| 4.722222222222222|\n|      93|              6.25|\n|      94| 7.368421052631579|\n|      95|               6.0|\n|      96|               6.6|\n|      97|               5.5|\n|      98| 6.823529411764706|\n|      99| 4.894736842105263|\n+--------+------------------+\n\n"
     ]
    }
   ],
   "source": [
    "# Create a SparkSession\n",
    "spark = SparkSession.builder.appName(\"AverageMonthlySale\").getOrCreate()\n",
    " \n",
    "# Register the DataFrame as a temporary table to use in SQL queries\n",
    "df_sales_ord.createOrReplaceTempView(\"df_sales_ord\")\n",
    " \n",
    "# Write the SQL query to calculate average monthly sale\n",
    "q = \"\"\"\n",
    "SELECT s.`_StoreID`, \n",
    "       AVG(s.`MonthlySale`) AS AvgMonthlySale\n",
    "FROM (\n",
    "    SELECT `_StoreID`, \n",
    "           SUBSTR(`OrderDate`, 4, 7) AS `Month-Year`, \n",
    "           SUM(`Order Quantity`) AS `MonthlySale`\n",
    "    FROM df_sales_ord\n",
    "    GROUP BY `_StoreID`, `Month-Year`\n",
    ") s\n",
    "GROUP BY s.`_StoreID`\n",
    "ORDER BY s.`_StoreID`\n",
    "\"\"\"\n",
    " \n",
    "# Execute the SQL query\n",
    "result = spark.sql(q)\n",
    " \n",
    "# Show the result\n",
    "result.show(367)"
   ]
  },
  {
   "cell_type": "code",
   "execution_count": 0,
   "metadata": {
    "application/vnd.databricks.v1+cell": {
     "cellMetadata": {
      "byteLimit": 2048000,
      "rowLimit": 10000
     },
     "inputWidgets": {},
     "nuid": "51cc5df4-7e56-4f53-84bd-a7c41297b7d8",
     "showTitle": false,
     "title": ""
    }
   },
   "outputs": [
    {
     "output_type": "stream",
     "name": "stdout",
     "output_type": "stream",
     "text": [
      "+--------+------------------+\n|_StoreID|    AvgMonthlySale|\n+--------+------------------+\n|       1| 6.421052631578948|\n|      10|               4.5|\n|     100| 7.714285714285714|\n|     101| 5.222222222222222|\n|     102| 6.421052631578948|\n|     103|4.7894736842105265|\n|     104| 4.444444444444445|\n|     105|               4.5|\n|     106|              4.05|\n|     107|               6.8|\n|     108| 4.461538461538462|\n|     109| 3.888888888888889|\n|      11|5.2727272727272725|\n|     110| 6.684210526315789|\n|     111|6.3076923076923075|\n|     112|             5.625|\n|     113| 6.666666666666667|\n|     114|            5.3125|\n|     115| 6.214285714285714|\n|     116| 5.722222222222222|\n|     117| 5.153846153846154|\n|     118| 5.111111111111111|\n|     119| 5.722222222222222|\n|      12| 6.684210526315789|\n|     120| 5.833333333333333|\n|     121|5.7727272727272725|\n|     122|               6.4|\n|     123| 5.166666666666667|\n|     124| 6.071428571428571|\n|     125| 9.466666666666667|\n|     126| 6.466666666666667|\n|     127|               6.0|\n|     128|              6.48|\n|     129|              6.45|\n|      13| 4.888888888888889|\n|     130|               6.0|\n|     131| 8.333333333333334|\n|     132| 6.421052631578948|\n|     133|               5.0|\n|     134| 9.357142857142858|\n|     135| 6.315789473684211|\n|     136|              4.75|\n|     137|               5.6|\n|     138| 4.826086956521739|\n|     139|               5.0|\n|      14|               4.7|\n|     140|             5.375|\n|     141| 4.666666666666667|\n|     142| 4.055555555555555|\n|     143| 6.130434782608695|\n|     144| 5.166666666666667|\n|     145|            5.6875|\n|     146|               6.0|\n|     147|               7.6|\n|     148| 6.333333333333333|\n|     149|            6.5625|\n|      15|            4.9375|\n|     150| 5.647058823529412|\n|     151| 4.578947368421052|\n|     152|              6.25|\n|     153|               7.0|\n|     154|               6.5|\n|     155| 5.380952380952381|\n|     156| 5.642857142857143|\n|     157| 5.466666666666667|\n|     158| 5.230769230769231|\n|     159| 5.571428571428571|\n|      16| 5.315789473684211|\n|     160| 5.428571428571429|\n|     161|              5.45|\n|     162|4.9523809523809526|\n|     163| 5.866666666666666|\n|     164|               4.5|\n|     165|            5.9375|\n|     166|              6.96|\n|     167| 7.266666666666667|\n|     168|               6.6|\n|     169|               4.5|\n|      17| 6.956521739130435|\n|     170| 6.117647058823529|\n|     171| 5.368421052631579|\n|     172| 4.222222222222222|\n|     173| 5.578947368421052|\n|     174|               5.5|\n|     175| 6.714285714285714|\n|     176| 5.333333333333333|\n|     177|               6.0|\n|     178| 6.444444444444445|\n|     179| 4.384615384615385|\n|      18| 6.769230769230769|\n|     180| 6.357142857142857|\n|     181|            5.6875|\n|     182| 6.833333333333333|\n|     183| 7.944444444444445|\n|     184|               6.0|\n|     185|               5.5|\n|     186| 6.666666666666667|\n|     187| 5.611111111111111|\n|     188|             5.625|\n|     189| 7.444444444444445|\n|      19|               5.4|\n|     190| 4.428571428571429|\n|     191| 6.615384615384615|\n|     192| 6.928571428571429|\n|     193| 5.647058823529412|\n|     194| 5.857142857142857|\n|     195|             5.625|\n|     196|               6.6|\n|     197|               6.6|\n|     198|             5.375|\n|     199|5.9411764705882355|\n|       2|            5.8125|\n|      20|               5.0|\n|     200| 5.190476190476191|\n|     201|               6.5|\n|     202|              5.45|\n|     203|               5.8|\n|     204| 5.421052631578948|\n|     205| 5.333333333333333|\n|     206| 7.230769230769231|\n|     207| 9.071428571428571|\n|     208| 6.055555555555555|\n|     209|            7.0625|\n|      21| 5.961538461538462|\n|     210| 5.916666666666667|\n|     211|               6.8|\n|     212| 7.764705882352941|\n|     213|               5.2|\n|     214|               6.6|\n|     215| 5.882352941176471|\n|     216| 5.181818181818182|\n|     217| 6.705882352941177|\n|     218| 7.714285714285714|\n|     219|              4.75|\n|      22| 7.052631578947368|\n|     220| 7.214285714285714|\n|     221| 5.473684210526316|\n|     222| 5.923076923076923|\n|     223| 5.461538461538462|\n|     224| 5.785714285714286|\n|     225|               5.2|\n|     226|               4.5|\n|     227| 6.909090909090909|\n|     228| 5.545454545454546|\n|     229| 5.454545454545454|\n|      23| 5.454545454545454|\n|     230|               6.9|\n|     231| 6.411764705882353|\n|     232|               7.5|\n|     233| 7.357142857142857|\n|     234| 6.470588235294118|\n|     235| 5.076923076923077|\n|     236| 5.647058823529412|\n|     237| 5.578947368421052|\n|     238| 7.111111111111111|\n|     239|            4.9375|\n|      24| 8.666666666666666|\n|     240|               6.2|\n|     241| 6.285714285714286|\n|     242| 6.933333333333334|\n|     243| 5.066666666666666|\n|     244|            7.6875|\n|     245| 5.416666666666667|\n|     246| 6.842105263157895|\n|     247| 5.181818181818182|\n|     248| 5.315789473684211|\n|     249| 5.571428571428571|\n|      25| 5.066666666666666|\n|     250| 5.866666666666666|\n|     251| 6.533333333333333|\n|     252| 4.611111111111111|\n|     253| 4.714285714285714|\n|     254|3.6363636363636362|\n|     255|6.0588235294117645|\n|     256| 6.166666666666667|\n|     257| 6.666666666666667|\n|     258| 5.315789473684211|\n|     259| 4.928571428571429|\n|      26|              7.12|\n|     260| 5.761904761904762|\n|     261| 7.769230769230769|\n|     262| 6.333333333333333|\n|     263|5.0588235294117645|\n|     264| 5.428571428571429|\n|     265| 4.833333333333333|\n|     266|            5.4375|\n|     267| 3.272727272727273|\n|     268|               5.0|\n|     269|             5.125|\n|      27| 5.428571428571429|\n|     270| 5.857142857142857|\n|     271| 6.857142857142857|\n|     272| 6.705882352941177|\n|     273| 5.636363636363637|\n|     274| 4.923076923076923|\n|     275|               4.1|\n|     276|            6.5625|\n|     277| 4.533333333333333|\n|     278|              6.55|\n|     279| 6.470588235294118|\n|      28| 5.842105263157895|\n|     280| 4.611111111111111|\n|     281| 5.176470588235294|\n|     282|               6.5|\n|     283| 5.428571428571429|\n|     284|               7.0|\n|     285|7.0588235294117645|\n|     286| 6.157894736842105|\n|     287|            6.4375|\n|     288| 5.882352941176471|\n|     289|               4.8|\n|      29|               7.0|\n|     290| 5.933333333333334|\n|     291| 5.304347826086956|\n|     292| 6.066666666666666|\n|     293| 5.785714285714286|\n|     294| 5.470588235294118|\n|     295| 5.421052631578948|\n|     296| 5.176470588235294|\n|     297| 6.285714285714286|\n|     298| 6.117647058823529|\n|     299| 5.421052631578948|\n|       3|             5.625|\n|      30|               6.5|\n|     300|               6.4|\n|     301| 6.571428571428571|\n|     302| 6.666666666666667|\n|     303|              7.25|\n|     304|               4.5|\n|     305| 6.615384615384615|\n|     306| 6.352941176470588|\n|     307| 4.444444444444445|\n|     308| 8.636363636363637|\n|     309|5.2105263157894735|\n|      31|              4.95|\n|     310| 5.571428571428571|\n|     311|               4.8|\n|     312| 4.526315789473684|\n|     313| 7.764705882352941|\n|     314|6.2727272727272725|\n|     315| 4.352941176470588|\n|     316| 5.684210526315789|\n|     317| 4.933333333333334|\n|     318| 8.866666666666667|\n|     319|             4.125|\n|      32|5.0588235294117645|\n|     320| 6.333333333333333|\n|     321| 6.428571428571429|\n|     322|               8.0|\n|     323|               6.0|\n|     324|              6.75|\n|     325| 4.882352941176471|\n|     326|6.7894736842105265|\n|     327| 5.473684210526316|\n|     328| 8.047619047619047|\n|     329| 4.785714285714286|\n|      33| 7.285714285714286|\n|     330| 4.578947368421052|\n|     331|               6.0|\n|     332| 6.333333333333333|\n|     333|            7.5625|\n|     334| 5.588235294117647|\n|     335|5.2105263157894735|\n|     336| 5.722222222222222|\n|     337|            5.5625|\n|     338| 7.230769230769231|\n|     339| 5.714285714285714|\n|      34|               6.9|\n|     340|              5.05|\n|     341| 5.260869565217392|\n|     342|            5.5625|\n|     343| 5.714285714285714|\n|     344| 6.235294117647059|\n|     345| 5.846153846153846|\n|     346| 5.285714285714286|\n|     347|               8.0|\n|     348| 5.666666666666667|\n|     349|               4.3|\n|      35| 4.647058823529412|\n|     350| 6.666666666666667|\n|     351| 6.857142857142857|\n|     352| 5.611111111111111|\n|     353| 5.571428571428571|\n|     354| 4.076923076923077|\n|     355| 6.130434782608695|\n|     356|               6.4|\n|     357|               5.6|\n|     358| 5.555555555555555|\n|     359| 6.285714285714286|\n|      36|               5.5|\n|     360| 5.764705882352941|\n|     361|               4.8|\n|     362| 5.181818181818182|\n|     363|            5.1875|\n|     364| 5.318181818181818|\n|     365|               4.2|\n|     366| 4.739130434782608|\n|     367|              5.75|\n|      37| 4.944444444444445|\n|      38| 6.615384615384615|\n|      39|               5.0|\n|       4| 5.230769230769231|\n|      40| 6.076923076923077|\n|      41| 6.458333333333333|\n|      42| 6.684210526315789|\n|      43| 6.555555555555555|\n|      44| 4.866666666666666|\n|      45|            7.0625|\n|      46|4.9411764705882355|\n|      47|               7.5|\n|      48| 6.117647058823529|\n|      49|            4.8125|\n|       5| 4.933333333333334|\n|      50|              3.75|\n|      51|               6.0|\n|      52|               5.9|\n|      53| 4.222222222222222|\n|      54| 6.588235294117647|\n|      55|               5.0|\n|      56| 5.611111111111111|\n|      57| 7.133333333333334|\n|      58| 5.826086956521739|\n|      59|               6.5|\n|       6| 5.833333333333333|\n|      60| 5.809523809523809|\n|      61| 5.294117647058823|\n|      62| 5.333333333333333|\n|      63| 7.166666666666667|\n|      64| 5.842105263157895|\n|      65|              5.35|\n|      66| 5.714285714285714|\n|      67| 4.333333333333333|\n|      68| 4.904761904761905|\n|      69| 6.133333333333334|\n|       7| 5.157894736842105|\n|      70| 5.176470588235294|\n|      71| 6.764705882352941|\n|      72| 5.428571428571429|\n|      73| 7.529411764705882|\n|      74| 7.363636363636363|\n|      75|               6.5|\n|      76|               6.8|\n|      77|               6.0|\n|      78|            4.8125|\n|      79| 6.235294117647059|\n|       8|               6.0|\n|      80|              4.92|\n|      81| 5.181818181818182|\n|      82| 5.809523809523809|\n|      83|               5.9|\n|      84| 5.083333333333333|\n|      85|              6.35|\n|      86|              5.95|\n|      87|5.7894736842105265|\n|      88| 6.666666666666667|\n|      89|3.9411764705882355|\n|       9| 5.466666666666667|\n|      90| 5.363636363636363|\n|      91|               7.0|\n|      92| 4.722222222222222|\n|      93|              6.25|\n|      94| 7.368421052631579|\n|      95|               6.0|\n|      96|               6.6|\n|      97|               5.5|\n|      98| 6.823529411764706|\n|      99| 4.894736842105263|\n+--------+------------------+\n\n"
     ]
    }
   ],
   "source": [
    "# def get_month(date):\n",
    "#     return date[3:]\n",
    " \n",
    "monthUDF = F.udf(lambda z: z[3:])\n",
    " \n",
    "df_sales_ord.groupBy(df_sales_ord[\"_StoreID\"], monthUDF(F.col(\"OrderDate\")).alias(\"MonthYear\"))\\\n",
    "            .agg(F.sum(df_sales_ord[\"Order Quantity\"]).alias(\"MonthlySale\"))\\\n",
    "            .groupBy(df_sales_ord[\"_StoreID\"])\\\n",
    "            .agg(F.avg(\"MonthlySale\").alias(\"AvgMonthlySale\"))\\\n",
    "            .orderBy(df_sales_ord[\"_StoreID\"])\\\n",
    "            .show(367)"
   ]
  },
  {
   "cell_type": "markdown",
   "metadata": {
    "application/vnd.databricks.v1+cell": {
     "cellMetadata": {
      "byteLimit": 2048000,
      "rowLimit": 10000
     },
     "inputWidgets": {},
     "nuid": "c804b9d2-50f2-479f-b390-730ddedc77f4",
     "showTitle": false,
     "title": ""
    }
   },
   "source": [
    "## 8. Compute sales bifurcation of each warehouse; that total sales amount through each channel"
   ]
  },
  {
   "cell_type": "code",
   "execution_count": 0,
   "metadata": {
    "application/vnd.databricks.v1+cell": {
     "cellMetadata": {
      "byteLimit": 2048000,
      "rowLimit": 10000
     },
     "inputWidgets": {},
     "nuid": "e3645fe5-af9f-4ba7-bc8a-d3ddf714b139",
     "showTitle": false,
     "title": ""
    }
   },
   "outputs": [
    {
     "output_type": "stream",
     "name": "stdout",
     "output_type": "stream",
     "text": [
      "+-------------+-------------+------------------+\n|WarehouseCode|Sales Channel|       Total_Sales|\n+-------------+-------------+------------------+\n| WARE-MKL1006|  Distributor| 99850.10000000002|\n| WARE-MKL1006|     In-Store|          211224.2|\n| WARE-MKL1006|       Online|          142086.9|\n| WARE-MKL1006|    Wholesale|           19208.9|\n| WARE-NBV1002|  Distributor|           53191.3|\n| WARE-NBV1002|     In-Store|181275.19999999998|\n| WARE-NBV1002|       Online|121323.59999999998|\n| WARE-NBV1002|    Wholesale|           50712.3|\n| WARE-NMK1003|  Distributor|228081.40000000002|\n| WARE-NMK1003|     In-Store| 578055.9000000001|\n| WARE-NMK1003|       Online| 541125.5000000002|\n| WARE-NMK1003|    Wholesale|130817.49999999999|\n| WARE-PUJ1005|  Distributor|135380.19999999998|\n| WARE-PUJ1005|     In-Store|          297285.7|\n| WARE-PUJ1005|       Online|243002.30000000002|\n| WARE-PUJ1005|    Wholesale|104754.49999999999|\n| WARE-UHY1004|  Distributor|          130529.4|\n| WARE-UHY1004|     In-Store|          251350.5|\n| WARE-UHY1004|       Online|          227599.0|\n| WARE-UHY1004|    Wholesale| 95863.59999999999|\n+-------------+-------------+------------------+\nonly showing top 20 rows\n\n"
     ]
    }
   ],
   "source": [
    "from pyspark.sql import SparkSession\n",
    " \n",
    "# Create a SparkSession\n",
    "spark = SparkSession.builder.appName(\"TotalSalesThroughChannel\").getOrCreate()\n",
    " \n",
    "# Register the DataFrame as a temporary table to use in SQL queries\n",
    "df_sales_ord.createOrReplaceTempView(\"df_sales_ord\")\n",
    " \n",
    "# Write the SQL query to calculate total sales by warehouse and sales channel\n",
    "q = \"\"\"\n",
    "SELECT `WarehouseCode`, `Sales Channel`, SUM(`Total_Sales`) AS `Total_Sales`\n",
    "FROM (\n",
    "    SELECT `WarehouseCode`, `Sales Channel`, (`Order Quantity` * `Unit Price`) AS `Total_Sales`\n",
    "    FROM df_sales_ord\n",
    ") subquery\n",
    "GROUP BY `WarehouseCode`, `Sales Channel`\n",
    "ORDER BY `WarehouseCode`, `Sales Channel`\n",
    "\"\"\"\n",
    " \n",
    "# Execute the SQL query\n",
    "result = spark.sql(q)\n",
    " \n",
    "# Show the result\n",
    "result.show()"
   ]
  },
  {
   "cell_type": "code",
   "execution_count": 0,
   "metadata": {
    "application/vnd.databricks.v1+cell": {
     "cellMetadata": {
      "byteLimit": 2048000,
      "rowLimit": 10000
     },
     "inputWidgets": {},
     "nuid": "d2a5b287-ff0b-40f6-9a5b-4b801a4c5d17",
     "showTitle": false,
     "title": ""
    }
   },
   "outputs": [
    {
     "output_type": "stream",
     "name": "stdout",
     "output_type": "stream",
     "text": [
      "+-------------+-------------+------------------+\n|WarehouseCode|Sales Channel|       Total_Sales|\n+-------------+-------------+------------------+\n| WARE-MKL1006|  Distributor| 99850.10000000002|\n| WARE-MKL1006|     In-Store|          211224.2|\n| WARE-MKL1006|       Online|          142086.9|\n| WARE-MKL1006|    Wholesale|           19208.9|\n| WARE-NBV1002|  Distributor|           53191.3|\n| WARE-NBV1002|     In-Store|181275.19999999998|\n| WARE-NBV1002|       Online|121323.59999999998|\n| WARE-NBV1002|    Wholesale|           50712.3|\n| WARE-NMK1003|  Distributor|228081.40000000002|\n| WARE-NMK1003|     In-Store| 578055.9000000001|\n| WARE-NMK1003|       Online| 541125.5000000002|\n| WARE-NMK1003|    Wholesale|130817.49999999999|\n| WARE-PUJ1005|  Distributor|135380.19999999998|\n| WARE-PUJ1005|     In-Store|          297285.7|\n| WARE-PUJ1005|       Online|243002.30000000002|\n| WARE-PUJ1005|    Wholesale|104754.49999999999|\n| WARE-UHY1004|  Distributor|          130529.4|\n| WARE-UHY1004|     In-Store|          251350.5|\n| WARE-UHY1004|       Online|          227599.0|\n| WARE-UHY1004|    Wholesale| 95863.59999999999|\n+-------------+-------------+------------------+\nonly showing top 20 rows\n\n"
     ]
    }
   ],
   "source": [
    "df_sales_ord.groupBy(df_sales_ord[\"WarehouseCode\"], df_sales_ord[\"Sales Channel\"])\\\n",
    "           .agg(F.sum(df_sales_ord[\"Order Quantity\"]*df_sales_ord[\"Unit Price\"]).alias(\"Total_Sales\"))\\\n",
    "           .orderBy(df_sales_ord[\"WarehouseCode\"], df_sales_ord[\"Sales Channel\"])\\\n",
    "           .show()"
   ]
  },
  {
   "cell_type": "markdown",
   "metadata": {
    "application/vnd.databricks.v1+cell": {
     "cellMetadata": {
      "byteLimit": 2048000,
      "rowLimit": 10000
     },
     "inputWidgets": {},
     "nuid": "7e079f00-13bc-4b4c-b3f4-481cf8d0aee1",
     "showTitle": false,
     "title": ""
    }
   },
   "source": [
    "## 9. Compute average \"product retention period\" (i. e. the difference between procurement date and order date) at each warehouse"
   ]
  },
  {
   "cell_type": "code",
   "execution_count": 0,
   "metadata": {
    "application/vnd.databricks.v1+cell": {
     "cellMetadata": {
      "byteLimit": 2048000,
      "rowLimit": 10000
     },
     "inputWidgets": {},
     "nuid": "7e89756e-aa23-405c-8b6f-c0ae5d21dfc5",
     "showTitle": false,
     "title": ""
    }
   },
   "outputs": [
    {
     "output_type": "stream",
     "name": "stdout",
     "output_type": "stream",
     "text": [
      "+-------------+----------------------+\n|WarehouseCode|AverageRetention(days)|\n+-------------+----------------------+\n| WARE-XYS1001|    109.35679214402619|\n| WARE-PUJ1005|    109.51274982770504|\n| WARE-MKL1006|     108.2532088681447|\n| WARE-NMK1003|    109.46986027944112|\n| WARE-UHY1004|    108.73359683794466|\n| WARE-NBV1002|    109.81476121562952|\n+-------------+----------------------+\n\n"
     ]
    }
   ],
   "source": [
    "from pyspark.sql.types import IntegerType\n",
    " \n",
    "def get_retention(procure, order):\n",
    "    from datetime import datetime\n",
    "    procure_date = datetime.strptime(procure, \"%m/%d/%Y\")\n",
    "    order_date = datetime.strptime(order, \"%m/%d/%Y\")\n",
    "    return (order_date - procure_date).days\n",
    " \n",
    "retentionUDF = F.udf(lambda x, y: get_retention(x, y), IntegerType())\n",
    " \n",
    "result_df = df_sales_ord.withColumn(\"Retention\", retentionUDF(F.col(\"ProcuredDate\"), F.col(\"OrderDate\"))) \\\n",
    "    .groupBy(\"WarehouseCode\") \\\n",
    "    .agg(F.avg(\"Retention\").alias(\"AverageRetention(days)\"))\n",
    " \n",
    "result_df.show()"
   ]
  },
  {
   "cell_type": "markdown",
   "metadata": {
    "application/vnd.databricks.v1+cell": {
     "cellMetadata": {
      "byteLimit": 2048000,
      "rowLimit": 10000
     },
     "inputWidgets": {},
     "nuid": "dbea795d-dfe2-4fd2-8cd2-e6505413fd63",
     "showTitle": false,
     "title": ""
    }
   },
   "source": [
    "## 10. Give Year-Month sale of all products"
   ]
  },
  {
   "cell_type": "code",
   "execution_count": 0,
   "metadata": {
    "application/vnd.databricks.v1+cell": {
     "cellMetadata": {
      "byteLimit": 2048000,
      "rowLimit": 10000
     },
     "inputWidgets": {},
     "nuid": "17fca15e-0486-466d-9e2b-42c269f43835",
     "showTitle": false,
     "title": ""
    }
   },
   "outputs": [
    {
     "output_type": "stream",
     "name": "stdout",
     "output_type": "stream",
     "text": [
      "+----------+------------+----------+-----------+\n|_ProductID|Product Name|Year-Month|SaleInMonth|\n+----------+------------+----------+-----------+\n|         1|    Cookware|   2018-05|        5.0|\n|         1|    Cookware|   2018-06|       24.0|\n|         1|    Cookware|   2018-07|       39.0|\n|         1|    Cookware|   2018-08|       22.0|\n|         1|    Cookware|   2018-09|       21.0|\n|         1|    Cookware|   2018-10|       30.0|\n|         1|    Cookware|   2018-11|       23.0|\n|         1|    Cookware|   2018-12|       30.0|\n|         1|    Cookware|   2019-01|       15.0|\n|         1|    Cookware|   2019-02|       10.0|\n|         1|    Cookware|   2019-03|       19.0|\n|         1|    Cookware|   2019-04|       18.0|\n|         1|    Cookware|   2019-05|       36.0|\n|         1|    Cookware|   2019-06|       21.0|\n|         1|    Cookware|   2019-07|       21.0|\n|         1|    Cookware|   2019-08|       10.0|\n|         1|    Cookware|   2019-09|       35.0|\n|         1|    Cookware|   2019-10|        9.0|\n|         1|    Cookware|   2019-11|       19.0|\n|         1|    Cookware|   2019-12|       31.0|\n+----------+------------+----------+-----------+\nonly showing top 20 rows\n\n"
     ]
    }
   ],
   "source": [
    "from pyspark.sql.functions import date_format, col, to_date, datediff, avg, expr\n",
    " \n",
    "# Create a SparkSession\n",
    "spark = SparkSession.builder.appName(\"YearMonthSale\").getOrCreate()\n",
    " \n",
    "# Extract the day, month, and year components\n",
    "df = df_sales_ord.withColumn(\"Month\", expr(\"month(to_date(OrderDate, 'M/d/yyyy'))\"))\n",
    "df = df_sales_ord.withColumn(\"Day\", expr(\"day(to_date(OrderDate, 'M/d/yyyy'))\"))\n",
    "df = df_sales_ord.withColumn(\"Year\", expr(\"year(to_date(OrderDate, 'M/d/yyyy'))\"))\n",
    " \n",
    "# Format the date as \"MM/DD/YYYY\"\n",
    "df = df_sales_ord.withColumn(\"OrderDate\", date_format(to_date(col(\"OrderDate\"), \"M/d/yyyy\"), \"MM/dd/yyyy\"))\n",
    " \n",
    "def get_month(date):\n",
    "    return date[6:]+\"-\"+date[0:2]\n",
    " \n",
    "monthUDF = F.udf(lambda z: get_month(z))\n",
    " \n",
    "df.join(df_prod, df[\"_ProductID\"] == df_prod[\"_ProductID\"])\\\n",
    "            .groupBy(df[\"_ProductID\"], df_prod[\"Product Name\"], monthUDF(F.col(\"OrderDate\")).alias(\"Year-Month\"))\\\n",
    "            .agg(F.sum(df_sales_ord[\"Order Quantity\"]).alias(\"SaleInMonth\"))\\\n",
    "            .orderBy(df[\"_ProductID\"], df_prod[\"Product Name\"], \"Year-Month\")\\\n",
    "            .show()"
   ]
  },
  {
   "cell_type": "markdown",
   "metadata": {
    "application/vnd.databricks.v1+cell": {
     "cellMetadata": {
      "byteLimit": 2048000,
      "rowLimit": 10000
     },
     "inputWidgets": {},
     "nuid": "cf950626-cda3-4763-80c2-0082962228fd",
     "showTitle": false,
     "title": ""
    }
   },
   "source": [
    "## 11. Compute a fact file with the dimensions of \" store_id \", \" product_id \", \" month_year \""
   ]
  },
  {
   "cell_type": "code",
   "execution_count": 0,
   "metadata": {
    "application/vnd.databricks.v1+cell": {
     "cellMetadata": {
      "byteLimit": 2048000,
      "rowLimit": 10000
     },
     "inputWidgets": {},
     "nuid": "9279a6d9-0596-4dc8-901d-6c0b0806191e",
     "showTitle": false,
     "title": ""
    }
   },
   "outputs": [
    {
     "output_type": "stream",
     "name": "stdout",
     "output_type": "stream",
     "text": [
      "+-------+---------+----------+--------+-----------------+\n|StoreID|ProductID|      Date|Quantity|           Amount|\n+-------+---------+----------+--------+-----------------+\n|      1|       11|      null|     5.0|             null|\n|      1|       11|11/17/2019|     5.0|             null|\n|      1|       16| 9/13/2020|     6.0|             null|\n|      1|       16|  8/6/2019|     7.0|           6237.7|\n|      1|       16|      null|    13.0|           6237.7|\n|      1|       19|  6/4/2020|     8.0|           1715.2|\n|      1|       19|      null|     8.0|           1715.2|\n|      1|       22| 3/28/2020|     6.0|           1407.0|\n|      1|       22| 4/27/2019|     6.0|5467.200000000001|\n|      1|       22|      null|    12.0|6874.200000000001|\n|      1|       23|      null|     8.0|             null|\n|      1|       23| 8/21/2020|     8.0|             null|\n|      1|       27|      null|     4.0|             null|\n|      1|       27| 2/20/2020|     4.0|             null|\n|      1|       28|      null|     7.0|             null|\n|      1|       28| 10/4/2019|     7.0|             null|\n|      1|       29| 8/21/2019|     1.0|             null|\n|      1|       29|  4/4/2020|     6.0|             null|\n|      1|       29|      null|     7.0|             null|\n|      1|        3|      null|     2.0|             null|\n|      1|        3| 11/1/2020|     2.0|             null|\n|      1|       30| 6/15/2018|     1.0|             null|\n|      1|       30|      null|     3.0|             null|\n|      1|       30| 3/14/2020|     2.0|             null|\n|      1|       33| 8/25/2018|     5.0|             null|\n|      1|       33|      null|    10.0|             null|\n|      1|       33|10/23/2019|     5.0|             null|\n|      1|       34| 1/17/2020|     2.0|           1956.4|\n|      1|       34|      null|     2.0|           1956.4|\n|      1|       35|      null|     6.0|             null|\n|      1|       35| 4/14/2019|     6.0|             null|\n|      1|       41|      null|     3.0|             null|\n|      1|       41| 7/12/2018|     3.0|             null|\n|      1|       43|      null|     8.0|             null|\n|      1|       43| 6/18/2019|     2.0|             null|\n|      1|       43|  7/2/2020|     6.0|             null|\n|      1|       44| 7/30/2020|     1.0|             null|\n|      1|       44|      null|     9.0|             null|\n|      1|       44| 3/14/2020|     8.0|             null|\n|      1|        5|  7/7/2019|     7.0|             null|\n|      1|        5|      null|     7.0|             null|\n|      1|        6|12/11/2018|     2.0|             null|\n|      1|        6|      null|     2.0|             null|\n|      1|        7|      null|     5.0|            837.5|\n|      1|        7|12/11/2019|     5.0|            837.5|\n|      1|        8| 1/13/2019|     1.0|             null|\n|      1|        8|      null|     1.0|             null|\n|      1|     null|  7/2/2020|     6.0|             null|\n|      1|     null| 6/15/2018|     1.0|             null|\n|      1|     null| 3/28/2020|     6.0|           1407.0|\n|      1|     null|      null|   122.0|          17621.0|\n|      1|     null| 6/18/2019|     2.0|             null|\n|      1|     null|  6/4/2020|     8.0|           1715.2|\n|      1|     null| 1/13/2019|     1.0|             null|\n|      1|     null| 1/17/2020|     2.0|           1956.4|\n|      1|     null| 8/21/2019|     1.0|             null|\n|      1|     null|12/11/2018|     2.0|             null|\n|      1|     null| 2/20/2020|     4.0|             null|\n|      1|     null| 7/12/2018|     3.0|             null|\n|      1|     null| 3/14/2020|    10.0|             null|\n|      1|     null|10/23/2019|     5.0|             null|\n|      1|     null| 9/13/2020|     6.0|             null|\n|      1|     null| 8/25/2018|     5.0|             null|\n|      1|     null| 4/27/2019|     6.0|5467.200000000001|\n|      1|     null| 11/1/2020|     2.0|             null|\n|      1|     null|  7/7/2019|     7.0|             null|\n|      1|     null| 4/14/2019|     6.0|             null|\n|      1|     null|11/17/2019|     5.0|             null|\n|      1|     null| 7/30/2020|     1.0|             null|\n|      1|     null|12/11/2019|     5.0|            837.5|\n|      1|     null|  8/6/2019|     7.0|           6237.7|\n|      1|     null| 10/4/2019|     7.0|             null|\n|      1|     null|  4/4/2020|     6.0|             null|\n|      1|     null| 8/21/2020|     8.0|             null|\n|     10|        1|11/15/2019|     6.0|             null|\n|     10|        1|      null|     6.0|             null|\n|     10|       11|      null|     1.0|             null|\n|     10|       11|10/26/2020|     1.0|             null|\n|     10|       12| 12/7/2018|     6.0|           5145.6|\n|     10|       12|      null|     6.0|           5145.6|\n|     10|       21|11/12/2020|     8.0|             null|\n|     10|       21|      null|     8.0|             null|\n|     10|       31| 12/7/2019|     2.0|             null|\n|     10|       31|      null|     2.0|             null|\n|     10|       33|11/27/2019|     1.0|             null|\n|     10|       33|      null|     1.0|             null|\n|     10|       39|      null|     4.0|             null|\n|     10|       39|12/30/2019|     4.0|             null|\n|     10|       41| 9/19/2020|     2.0|           1876.0|\n|     10|       41|      null|     2.0|           1876.0|\n|     10|        7|10/30/2019|     6.0|             null|\n|     10|        7|      null|     6.0|             null|\n|     10|     null| 12/7/2019|     2.0|             null|\n|     10|     null|      null|    36.0|           7021.6|\n|     10|     null|12/30/2019|     4.0|             null|\n|     10|     null| 12/7/2018|     6.0|           5145.6|\n|     10|     null|11/27/2019|     1.0|             null|\n|     10|     null|10/30/2019|     6.0|             null|\n|     10|     null|11/12/2020|     8.0|             null|\n|     10|     null|11/15/2019|     6.0|             null|\n+-------+---------+----------+--------+-----------------+\nonly showing top 100 rows\n\n"
     ]
    }
   ],
   "source": [
    "df_sales_ord.select(F.col(\"_StoreID\").alias(\"StoreID\"),\\\n",
    "                   F.col(\"_ProductID\").alias(\"ProductID\"),\\\n",
    "                   F.col(\"OrderDate\").alias(\"Date\"),\n",
    "                   F.col(\"Order Quantity\").alias(\"Quantity\"),\n",
    "                   F.col(\"Unit Price\").alias(\"Price\"))\\\n",
    "            .cube(\"StoreID\",\"ProductID\",\"Date\")\\\n",
    "            .agg(F.sum(\"Quantity\").alias(\"Quantity\"), F.sum(F.col(\"Quantity\") * F.col(\"Price\")).alias(\"Amount\"))\\\n",
    "            .orderBy(F.asc_nulls_last(\"StoreID\"), F.asc_nulls_last(\"ProductID\"))\\\n",
    "            .show(100)"
   ]
  }
 ],
 "metadata": {
  "application/vnd.databricks.v1+notebook": {
   "dashboards": [],
   "language": "python",
   "notebookMetadata": {
    "pythonIndentUnit": 4
   },
   "notebookName": "202211037_BDP_LAB05",
   "widgets": {}
  }
 },
 "nbformat": 4,
 "nbformat_minor": 0
}
